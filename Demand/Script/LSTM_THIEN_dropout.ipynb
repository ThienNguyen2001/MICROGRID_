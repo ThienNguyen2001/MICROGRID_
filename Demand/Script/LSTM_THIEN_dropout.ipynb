{
  "nbformat": 4,
  "nbformat_minor": 0,
  "metadata": {
    "colab": {
      "provenance": []
    },
    "kernelspec": {
      "name": "python3",
      "display_name": "Python 3"
    },
    "language_info": {
      "name": "python"
    }
  },
  "cells": [
    {
      "cell_type": "code",
      "execution_count": null,
      "metadata": {
        "id": "bcH4z_YHC5pg"
      },
      "outputs": [],
      "source": [
        "import matplotlib.pyplot as plt\n",
        "import pandas as pd\n",
        "import numpy as np\n",
        "import os\n",
        "import torch\n",
        "from torch.nn.utils.rnn import pad_sequence\n",
        "from torch.utils.data import DataLoader, Dataset\n",
        "import torchvision.transforms as transforms\n",
        "import torch\n",
        "import torch.nn as nn\n",
        "import torch.optim as optim\n",
        "from sklearn.model_selection import train_test_split\n",
        "from tqdm import tqdm  # For a nice progress bar!\n",
        "import torch.nn.functional as F\n",
        "from sklearn.preprocessing import StandardScaler\n",
        "from sklearn.cluster import KMeans"
      ]
    },
    {
      "cell_type": "code",
      "source": [
        "def concat_csv():\n",
        "    # Take the path of all the data\n",
        "    # Read data\n",
        "    df = pd.read_csv('/content/japandata.csv',header=0)\n",
        "    df.set_index('Time', inplace=True)\n",
        "    df = df.fillna(method = 'ffill')\n",
        "    return df"
      ],
      "metadata": {
        "id": "gbmTUZAODF2Q"
      },
      "execution_count": null,
      "outputs": []
    },
    {
      "cell_type": "code",
      "source": [
        "df = concat_csv()\n",
        "print(df.head())  # Hiển thị 5 dòng đầu tiên\n",
        "print(df.info())  # Kiểm tra kiểu dữ liệu"
      ],
      "metadata": {
        "colab": {
          "base_uri": "https://localhost:8080/"
        },
        "id": "HPTV54ohcUDi",
        "outputId": "826529b3-988d-45f8-d156-61a0a3f0d9a8"
      },
      "execution_count": null,
      "outputs": [
        {
          "output_type": "stream",
          "name": "stdout",
          "text": [
            "               Temperature  Wind speed  Relative humidity (%)  \\\n",
            "Time                                                            \n",
            "1/1/2015 0:00          4.2         1.5                   79.0   \n",
            "1/1/2015 1:00          4.6         3.6                   68.0   \n",
            "1/1/2015 2:00          4.7         3.6                   60.0   \n",
            "1/1/2015 3:00          4.4         4.6                   50.0   \n",
            "1/1/2015 4:00          2.9         2.6                   49.0   \n",
            "\n",
            "               Solar radiation  \\\n",
            "Time                             \n",
            "1/1/2015 0:00              0.0   \n",
            "1/1/2015 1:00              0.0   \n",
            "1/1/2015 2:00              0.0   \n",
            "1/1/2015 3:00              0.0   \n",
            "1/1/2015 4:00              0.0   \n",
            "\n",
            "               Active power of purchased electricity at the receiving end  \n",
            "Time                                                                       \n",
            "1/1/2015 0:00                                         546.620999           \n",
            "1/1/2015 1:00                                         587.033331           \n",
            "1/1/2015 2:00                                         580.412666           \n",
            "1/1/2015 3:00                                         558.533333           \n",
            "1/1/2015 4:00                                         593.818332           \n",
            "<class 'pandas.core.frame.DataFrame'>\n",
            "Index: 29040 entries, 1/1/2015 0:00 to 4/24/2018 23:00\n",
            "Data columns (total 5 columns):\n",
            " #   Column                                                      Non-Null Count  Dtype  \n",
            "---  ------                                                      --------------  -----  \n",
            " 0   Temperature                                                 29040 non-null  float64\n",
            " 1   Wind speed                                                  29040 non-null  float64\n",
            " 2   Relative humidity (%)                                       29040 non-null  float64\n",
            " 3   Solar radiation                                             29040 non-null  float64\n",
            " 4   Active power of purchased electricity at the receiving end  29040 non-null  float64\n",
            "dtypes: float64(5)\n",
            "memory usage: 1.3+ MB\n",
            "None\n"
          ]
        },
        {
          "output_type": "stream",
          "name": "stderr",
          "text": [
            "<ipython-input-199-820969ceda7d>:6: FutureWarning: DataFrame.fillna with 'method' is deprecated and will raise in a future version. Use obj.ffill() or obj.bfill() instead.\n",
            "  df = df.fillna(method = 'ffill')\n"
          ]
        }
      ]
    },
    {
      "cell_type": "markdown",
      "source": [],
      "metadata": {
        "id": "oIZi0ZQRbSiH"
      }
    },
    {
      "cell_type": "code",
      "source": [
        "def correlation(dataset, threshold):\n",
        "     col_corr = set()  # Set of all the names of correlated columns\n",
        "     corr_matrix = dataset.corr(method='spearman')  # Calculate Spearman correlation\n",
        "     num_columns = len(corr_matrix.columns)\n",
        "     for i in range(num_columns):\n",
        "         if i != 0:\n",
        "             if abs(corr_matrix.iloc[i,4 ]) < threshold:\n",
        "                 colname = corr_matrix.columns[i]\n",
        "                 col_corr.add(colname)\n",
        "     return col_corr\n",
        "def get_loader(dataset,batch_size=16,shuffle=False):\n",
        "\n",
        "    loader = DataLoader(dataset=dataset,\n",
        "                        batch_size=batch_size,\n",
        "                        shuffle=shuffle)\n",
        "    return loader\n",
        "\n",
        "def save_checkpoint(state, filename=\"/content/checkpoint.pth.tar\"):\n",
        "    print(\"=> Saving checkpoint\")\n",
        "    torch.save(state, filename)\n",
        "\n",
        "\n",
        "def load_checkpoint(checkpoint, model, optimizer):\n",
        "    print(\"=> Loading checkpoint\")\n",
        "    model.load_state_dict(checkpoint[\"state_dict\"])\n",
        "    optimizer.load_state_dict(checkpoint[\"optimizer\"])\n",
        "def ordered_train_val_test_split(df, val_size, test_size):\n",
        "    # Calculate the splitting indices\n",
        "    val_index = int(len(df) * (1 - val_size - test_size))\n",
        "    test_index = int(len(df) * (1 - test_size))\n",
        "\n",
        "    # Split the DataFrame\n",
        "    train_data = df.iloc[:val_index]\n",
        "    val_data = df.iloc[val_index:test_index]\n",
        "    test_data = df.iloc[test_index:]\n",
        "\n",
        "    return train_data, val_data, test_data"
      ],
      "metadata": {
        "id": "udlqCfVrEt5_"
      },
      "execution_count": null,
      "outputs": []
    },
    {
      "cell_type": "code",
      "source": [
        "#device = \"cuda\" if torch.cuda.is_available() else \"cpu\"\n",
        "\n",
        "# class LSTM(nn.Module):\n",
        "#     def __init__(self,input_size=8,hidden_size=256,num_layers=2,seq_length=12):\n",
        "#         super(LSTM,self).__init__()\n",
        "#         self.hidden_size = hidden_size\n",
        "#         self.num_layers = num_layers\n",
        "#         self.lstm = nn.LSTM(input_size,hidden_size,num_layers,batch_first=True)\n",
        "#         self.fc = nn.Linear(hidden_size*seq_length,seq_length)\n",
        "#     def forward(self,x):\n",
        "#         out,(hidden,cell) = self.lstm(x)\n",
        "#         # out: tensor of shape (batch_size, seq_length, hidden_size)\n",
        "\n",
        "#         out = out.reshape(out.shape[0],-1)\n",
        "#         # out: tensor of shape (batch_size, seq_length * hidden_size)\n",
        "\n",
        "#         out = self.fc(out)\n",
        "#         # out: shape (batch_size,seq_length)\n",
        "#         return out"
      ],
      "metadata": {
        "id": "PlyOSK3MIAhd"
      },
      "execution_count": null,
      "outputs": []
    },
    {
      "cell_type": "code",
      "source": [
        "device = \"cuda\" if torch.cuda.is_available() else \"cpu\"\n",
        "class LSTM(nn.Module):\n",
        "    def __init__(self, input_size=8, hidden_size=256, num_layers=2, seq_length=12, dropout=0.3):\n",
        "        super(LSTM, self).__init__()\n",
        "        self.hidden_size = hidden_size\n",
        "        self.num_layers = num_layers\n",
        "        self.seq_length = seq_length\n",
        "        # dropout giữa các layer của LSTM (áp dụng nếu num_layers > 1)\n",
        "        self.lstm = nn.LSTM(input_size, hidden_size, num_layers, batch_first=True, dropout=dropout)\n",
        "        # Dropout sau LSTM trước khi vào fc\n",
        "        self.dropout = nn.Dropout(dropout)\n",
        "        self.fc = nn.Linear(hidden_size * seq_length, seq_length)\n",
        "\n",
        "    def forward(self, x):\n",
        "        out, (hidden, cell) = self.lstm(x)\n",
        "        out = out.reshape(out.shape[0], -1)\n",
        "        out = self.dropout(out)\n",
        "        out = self.fc(out)\n",
        "        return out"
      ],
      "metadata": {
        "id": "uJpNazjMHZHN"
      },
      "execution_count": null,
      "outputs": []
    },
    {
      "cell_type": "code",
      "source": [
        "class Irradiation_Dataset(Dataset):\n",
        "    def __init__(self,data,target,trainop1=True):\n",
        "        self.data = data # shape [num_samples,num_feature]\n",
        "        self.target = target # shape [num_samples,1]\n",
        "        self.trainop1 = trainop1\n",
        "    def __len__(self):\n",
        "        if self.trainop1:\n",
        "            return self.data.shape[0]//24-1\n",
        "        else:\n",
        "            return self.data.shape[0]//24\n",
        "\n",
        "    def __getitem__(self,index):\n",
        "        if self.trainop1:\n",
        "            seq_length =  24\n",
        "            features_start_idx = index*seq_length\n",
        "            features_end_idx = (index+1)*seq_length\n",
        "\n",
        "            targets_start_idx = (index+1)*seq_length\n",
        "            targets_end_idx = targets_start_idx+24\n",
        "            features = self.data[features_start_idx:features_end_idx, :]\n",
        "            targets = self.target[targets_start_idx:targets_end_idx]\n",
        "\n",
        "            return torch.tensor(features),torch.tensor(targets)\n",
        "        else:\n",
        "            seq_length =  24\n",
        "            features_start_idx = index*seq_length\n",
        "            features_end_idx = (index+1)*seq_length\n",
        "\n",
        "            targets_start_idx = index * seq_length\n",
        "            targets_end_idx = (index+1)*seq_length\n",
        "            features = self.data[features_start_idx:features_end_idx, :]\n",
        "            targets = self.target[targets_start_idx:targets_end_idx]\n",
        "        return torch.tensor(features),torch.tensor(targets)"
      ],
      "metadata": {
        "id": "K2hATnfcIY1p"
      },
      "execution_count": null,
      "outputs": []
    },
    {
      "cell_type": "code",
      "source": [
        "print(df)"
      ],
      "metadata": {
        "colab": {
          "base_uri": "https://localhost:8080/"
        },
        "id": "4R7VroZvPVVe",
        "outputId": "23af295f-c1d7-4e15-8e41-a726c32c051e"
      },
      "execution_count": null,
      "outputs": [
        {
          "output_type": "stream",
          "name": "stdout",
          "text": [
            "                 Temperature  Wind speed  Relative humidity (%)  \\\n",
            "Time                                                              \n",
            "1/1/2015 0:00            4.2         1.5                   79.0   \n",
            "1/1/2015 1:00            4.6         3.6                   68.0   \n",
            "1/1/2015 2:00            4.7         3.6                   60.0   \n",
            "1/1/2015 3:00            4.4         4.6                   50.0   \n",
            "1/1/2015 4:00            2.9         2.6                   49.0   \n",
            "...                      ...         ...                    ...   \n",
            "4/24/2018 19:00         17.6         3.6                   92.0   \n",
            "4/24/2018 20:00         17.2         2.4                   95.0   \n",
            "4/24/2018 21:00         16.8         2.6                   94.0   \n",
            "4/24/2018 22:00         16.7         2.2                   96.0   \n",
            "4/24/2018 23:00         17.0         2.7                   98.0   \n",
            "\n",
            "                 Solar radiation  \\\n",
            "Time                               \n",
            "1/1/2015 0:00                0.0   \n",
            "1/1/2015 1:00                0.0   \n",
            "1/1/2015 2:00                0.0   \n",
            "1/1/2015 3:00                0.0   \n",
            "1/1/2015 4:00                0.0   \n",
            "...                          ...   \n",
            "4/24/2018 19:00              0.0   \n",
            "4/24/2018 20:00              0.0   \n",
            "4/24/2018 21:00              0.0   \n",
            "4/24/2018 22:00              0.0   \n",
            "4/24/2018 23:00              0.0   \n",
            "\n",
            "                 Active power of purchased electricity at the receiving end  \n",
            "Time                                                                         \n",
            "1/1/2015 0:00                                           546.620999           \n",
            "1/1/2015 1:00                                           587.033331           \n",
            "1/1/2015 2:00                                           580.412666           \n",
            "1/1/2015 3:00                                           558.533333           \n",
            "1/1/2015 4:00                                           593.818332           \n",
            "...                                                            ...           \n",
            "4/24/2018 19:00                                         698.990002           \n",
            "4/24/2018 20:00                                         677.878335           \n",
            "4/24/2018 21:00                                         649.706666           \n",
            "4/24/2018 22:00                                         659.895668           \n",
            "4/24/2018 23:00                                         627.091334           \n",
            "\n",
            "[29040 rows x 5 columns]\n"
          ]
        }
      ]
    },
    {
      "cell_type": "code",
      "source": [
        "low_corr_columns = correlation(df, 0.3)\n",
        "print(\"Các cột có tương quan thấp với cột mục tiêu:\", low_corr_columns)"
      ],
      "metadata": {
        "colab": {
          "base_uri": "https://localhost:8080/"
        },
        "id": "qF1ZivhvOGhA",
        "outputId": "7382c5e2-7282-4c0f-ecc4-a991d41adbbb"
      },
      "execution_count": null,
      "outputs": [
        {
          "output_type": "stream",
          "name": "stdout",
          "text": [
            "Các cột có tương quan thấp với cột mục tiêu: {'Wind speed', 'Relative humidity (%)'}\n"
          ]
        }
      ]
    },
    {
      "cell_type": "code",
      "source": [
        "df = df.drop(columns=low_corr_columns)\n",
        "\n",
        "print(\"DataFrame sau khi loại bỏ các cột tương quan thấp:\")\n",
        "print(df.head())"
      ],
      "metadata": {
        "colab": {
          "base_uri": "https://localhost:8080/"
        },
        "id": "oXY72mXuP0TE",
        "outputId": "3907382c-c397-4d6a-bc7a-80dfc4044936"
      },
      "execution_count": null,
      "outputs": [
        {
          "output_type": "stream",
          "name": "stdout",
          "text": [
            "DataFrame sau khi loại bỏ các cột tương quan thấp:\n",
            "               Temperature  Solar radiation  \\\n",
            "Time                                          \n",
            "1/1/2015 0:00          4.2              0.0   \n",
            "1/1/2015 1:00          4.6              0.0   \n",
            "1/1/2015 2:00          4.7              0.0   \n",
            "1/1/2015 3:00          4.4              0.0   \n",
            "1/1/2015 4:00          2.9              0.0   \n",
            "\n",
            "               Active power of purchased electricity at the receiving end  \n",
            "Time                                                                       \n",
            "1/1/2015 0:00                                         546.620999           \n",
            "1/1/2015 1:00                                         587.033331           \n",
            "1/1/2015 2:00                                         580.412666           \n",
            "1/1/2015 3:00                                         558.533333           \n",
            "1/1/2015 4:00                                         593.818332           \n"
          ]
        }
      ]
    },
    {
      "cell_type": "code",
      "source": [
        "# df = concat_csv()\n",
        "\n",
        "target_column = 'Active power of purchased electricity at the receiving end'\n",
        "trainop1 = True\n",
        "\n",
        "X = df\n",
        "Y = df[target_column]\n",
        "Y = pd.DataFrame({target_column: Y})\n",
        "\n",
        "X_train, X_val, X_test = ordered_train_val_test_split(X,0.1,0.1)\n",
        "Y_train, Y_val, Y_test = ordered_train_val_test_split(Y,0.1,0.1)\n",
        "\n",
        "if not trainop1:\n",
        "    X_train = X_train.drop(target_column,axis=1)\n",
        "    X_val = X_val.drop(target_column,axis=1)\n",
        "    X_test = X_test.drop(target_column,axis=1)"
      ],
      "metadata": {
        "id": "DThtDrLcJTrD"
      },
      "execution_count": null,
      "outputs": []
    },
    {
      "cell_type": "code",
      "source": [
        "print(df.head())"
      ],
      "metadata": {
        "colab": {
          "base_uri": "https://localhost:8080/"
        },
        "id": "l3RmEbwZQZzp",
        "outputId": "13a7c482-637b-43f8-a3f9-a3da5e3dac66"
      },
      "execution_count": null,
      "outputs": [
        {
          "output_type": "stream",
          "name": "stdout",
          "text": [
            "               Temperature  Solar radiation  \\\n",
            "Time                                          \n",
            "1/1/2015 0:00          4.2              0.0   \n",
            "1/1/2015 1:00          4.6              0.0   \n",
            "1/1/2015 2:00          4.7              0.0   \n",
            "1/1/2015 3:00          4.4              0.0   \n",
            "1/1/2015 4:00          2.9              0.0   \n",
            "\n",
            "               Active power of purchased electricity at the receiving end  \n",
            "Time                                                                       \n",
            "1/1/2015 0:00                                         546.620999           \n",
            "1/1/2015 1:00                                         587.033331           \n",
            "1/1/2015 2:00                                         580.412666           \n",
            "1/1/2015 3:00                                         558.533333           \n",
            "1/1/2015 4:00                                         593.818332           \n"
          ]
        }
      ]
    },
    {
      "cell_type": "code",
      "source": [
        "X_scaler = StandardScaler()\n",
        "X_train = pd.DataFrame(X_scaler.fit_transform(X_train), columns=X_train.columns).values\n",
        "X_val = pd.DataFrame(X_scaler.transform(X_val), columns=X_val.columns).values\n",
        "X_test = pd.DataFrame(X_scaler.transform(X_test), columns=X_test.columns).values\n",
        "\n",
        "\n",
        "Y_scaler = StandardScaler()\n",
        "Y_train = pd.DataFrame(Y_scaler.fit_transform(Y_train), columns=Y_train.columns).values\n",
        "Y_val = pd.DataFrame(Y_scaler.transform(Y_val), columns=Y_val.columns).values\n",
        "Y_test = pd.DataFrame(Y_scaler.transform(Y_test), columns=Y_test.columns).values\n",
        "\n",
        "# print(Y_test)"
      ],
      "metadata": {
        "id": "9v3PvbA1JWN7"
      },
      "execution_count": null,
      "outputs": []
    },
    {
      "cell_type": "code",
      "source": [
        "print(\"The shape of the original data:\",df.shape)\n",
        "print(\"The shape of the train data:\",X_train.shape)\n",
        "print(\"The shape of the train target:\",Y_train.shape)\n",
        "print(\"The shape of the val data:\",X_val.shape)\n",
        "print(\"The shape of the val target:\",Y_val.shape)\n",
        "print(\"The shape of the test data:\",X_test.shape)\n",
        "print(\"The shape of the test target:\",Y_test.shape)\n",
        "\n",
        "train_data = Irradiation_Dataset(X_train,Y_train,trainop1=trainop1)\n",
        "val_data = Irradiation_Dataset(X_val,Y_val,trainop1=trainop1)\n",
        "test_data = Irradiation_Dataset(X_test,Y_test,trainop1=trainop1)\n",
        "\n",
        "print(len(train_data))\n",
        "print(len(val_data))\n",
        "print(len(test_data))\n",
        "\n",
        "train_data_loader = get_loader(train_data)\n",
        "val_data_loader = get_loader(val_data)\n",
        "test_data_loader = get_loader(test_data)"
      ],
      "metadata": {
        "colab": {
          "base_uri": "https://localhost:8080/"
        },
        "id": "n0QnAmQHKTr0",
        "outputId": "97496eb0-5665-4cd8-b950-06e2f5c161fe"
      },
      "execution_count": null,
      "outputs": [
        {
          "output_type": "stream",
          "name": "stdout",
          "text": [
            "The shape of the original data: (29040, 3)\n",
            "The shape of the train data: (23232, 3)\n",
            "The shape of the train target: (23232, 1)\n",
            "The shape of the val data: (2904, 3)\n",
            "The shape of the val target: (2904, 1)\n",
            "The shape of the test data: (2904, 3)\n",
            "The shape of the test target: (2904, 1)\n",
            "967\n",
            "120\n",
            "120\n"
          ]
        }
      ]
    },
    {
      "cell_type": "code",
      "source": [
        "#HYPERPARAMETERS\n",
        "input_size = 3\n",
        "hidden_size = 64\n",
        "num_layers = 2\n",
        "sequence_length = 24\n",
        "learning_rate = 0.01\n",
        "batch_size = 16\n",
        "num_epochs = 1000\n",
        "min_valid_loss = np.inf"
      ],
      "metadata": {
        "id": "d1zktqOKKEOj"
      },
      "execution_count": null,
      "outputs": []
    },
    {
      "cell_type": "code",
      "source": [
        "# MODEL\n",
        "model = LSTM(input_size=input_size,\n",
        "             hidden_size=hidden_size,\n",
        "             num_layers=num_layers,\n",
        "             seq_length=sequence_length).to(device=device)\n",
        "\n",
        "# randn_tensor = torch.randn((16,12,10))\n",
        "# x = model(randn_tensor)\n",
        "# x.shape"
      ],
      "metadata": {
        "id": "1HbkM3xbKFJL"
      },
      "execution_count": null,
      "outputs": []
    },
    {
      "cell_type": "code",
      "source": [
        "#LOSS AND OPTIMIZER\n",
        "criterion = nn.MSELoss()\n",
        "optimizer = optim.Adam(model.parameters(),lr=learning_rate)\n",
        "scheduler = optim.lr_scheduler.LinearLR(optimizer=optimizer,\n",
        "                                        start_factor=1.0,\n",
        "                                        end_factor=0.01)"
      ],
      "metadata": {
        "id": "A48tJsu3KKm0"
      },
      "execution_count": null,
      "outputs": []
    },
    {
      "cell_type": "code",
      "source": [
        "class EarlyStopping:\n",
        "    def __init__(self, patience=10, min_delta=0):\n",
        "        \"\"\"\n",
        "        patience: số epoch chờ đợi sau khi validation loss không giảm\n",
        "        min_delta: mức giảm tối thiểu của validation loss để coi là cải thiện\n",
        "        \"\"\"\n",
        "        self.patience = patience\n",
        "        self.min_delta = min_delta\n",
        "        self.counter = 0\n",
        "        self.best_loss = np.inf\n",
        "        self.early_stop = False\n",
        "\n",
        "    def __call__(self, val_loss):\n",
        "        if self.best_loss - val_loss > self.min_delta:\n",
        "            self.best_loss = val_loss\n",
        "            self.counter = 0  # reset counter nếu cải thiện\n",
        "        else:\n",
        "            self.counter += 1\n",
        "            print(f\"EarlyStopping counter: {self.counter} out of {self.patience}\")\n",
        "            if self.counter >= self.patience:\n",
        "                self.early_stop = True\n"
      ],
      "metadata": {
        "id": "8aLy_XNiIDUF"
      },
      "execution_count": null,
      "outputs": []
    },
    {
      "cell_type": "code",
      "source": [
        "print(X)"
      ],
      "metadata": {
        "colab": {
          "base_uri": "https://localhost:8080/"
        },
        "id": "QBV4ETNpQS9f",
        "outputId": "ed502fc2-c388-4421-e36a-22ee26958421"
      },
      "execution_count": null,
      "outputs": [
        {
          "output_type": "stream",
          "name": "stdout",
          "text": [
            "                 Temperature  Solar radiation  \\\n",
            "Time                                            \n",
            "1/1/2015 0:00            4.2              0.0   \n",
            "1/1/2015 1:00            4.6              0.0   \n",
            "1/1/2015 2:00            4.7              0.0   \n",
            "1/1/2015 3:00            4.4              0.0   \n",
            "1/1/2015 4:00            2.9              0.0   \n",
            "...                      ...              ...   \n",
            "4/24/2018 19:00         17.6              0.0   \n",
            "4/24/2018 20:00         17.2              0.0   \n",
            "4/24/2018 21:00         16.8              0.0   \n",
            "4/24/2018 22:00         16.7              0.0   \n",
            "4/24/2018 23:00         17.0              0.0   \n",
            "\n",
            "                 Active power of purchased electricity at the receiving end  \n",
            "Time                                                                         \n",
            "1/1/2015 0:00                                           546.620999           \n",
            "1/1/2015 1:00                                           587.033331           \n",
            "1/1/2015 2:00                                           580.412666           \n",
            "1/1/2015 3:00                                           558.533333           \n",
            "1/1/2015 4:00                                           593.818332           \n",
            "...                                                            ...           \n",
            "4/24/2018 19:00                                         698.990002           \n",
            "4/24/2018 20:00                                         677.878335           \n",
            "4/24/2018 21:00                                         649.706666           \n",
            "4/24/2018 22:00                                         659.895668           \n",
            "4/24/2018 23:00                                         627.091334           \n",
            "\n",
            "[29040 rows x 3 columns]\n"
          ]
        }
      ]
    },
    {
      "cell_type": "code",
      "source": [
        "input_size = df.shape[1]\n",
        "print(input_size)"
      ],
      "metadata": {
        "colab": {
          "base_uri": "https://localhost:8080/"
        },
        "id": "y2eM2BBIQq6m",
        "outputId": "a1087776-9ff9-41ef-9efa-dbb69ea84db1"
      },
      "execution_count": null,
      "outputs": [
        {
          "output_type": "stream",
          "name": "stdout",
          "text": [
            "3\n"
          ]
        }
      ]
    },
    {
      "cell_type": "code",
      "source": [
        "early_stopping = EarlyStopping(patience=20, min_delta=1e-4)  # Bạn có thể điều chỉnh\n",
        "#TRAIN THE MODEL\n",
        "for epoch in range(num_epochs):\n",
        "    print(\"Epoch: \",epoch)\n",
        "    train_loss = 0\n",
        "    model.train()\n",
        "    for batch_idx,(data,target) in enumerate(tqdm(train_data_loader)):\n",
        "        data = data.to(device=device,dtype=torch.float)\n",
        "        target = target.to(device=device,dtype=torch.float).squeeze(2)\n",
        "\n",
        "        scores = model(data)\n",
        "        loss = criterion(scores,target)\n",
        "\n",
        "        optimizer.zero_grad()\n",
        "        loss.backward()\n",
        "\n",
        "        torch.nn.utils.clip_grad_norm_(model.parameters(), max_norm=1)\n",
        "\n",
        "        optimizer.step()\n",
        "\n",
        "        train_loss += loss.item()\n",
        "    scheduler.step()\n",
        "    avg_train_loss = train_loss / len(train_data_loader)\n",
        "    print(\"Train Loss:\", avg_train_loss)\n",
        "    valid_loss = 0\n",
        "\n",
        "    model.eval()\n",
        "    with torch.no_grad():\n",
        "        total_scores_val = None\n",
        "        total_target_val = None\n",
        "        for batch_idx_val,(data_val,target_val) in enumerate(tqdm(val_data_loader)):\n",
        "            data_val = data_val.to(device=device,dtype=torch.float)\n",
        "            target_val = target_val.to(device=device,dtype=torch.float).squeeze(2)\n",
        "\n",
        "            scores_val = model(data_val)\n",
        "            loss_val = criterion(scores_val,target_val)\n",
        "\n",
        "            valid_loss += loss_val.item()\n",
        "    avg_valid_loss = valid_loss / len(val_data_loader)\n",
        "    print(\"Validation Loss:\", avg_valid_loss)\n",
        "\n",
        "    if min_valid_loss > valid_loss/len(val_data_loader):\n",
        "        print(f'Validation Loss Decreased({min_valid_loss:.6f}--->{(valid_loss/len(val_data_loader)):.6f} \\t Saving The Model')\n",
        "        min_valid_loss = valid_loss/len(val_data_loader)\n",
        "        # Saving State Dict\n",
        "        checkpoint = {\"state_dict\": model.state_dict(), \"optimizer\": optimizer.state_dict()}\n",
        "        save_checkpoint(checkpoint)\n",
        "        torch.save(model, \"/content/model_predict_.pth.tar\")\n",
        "\n",
        "     # Kiểm tra EarlyStopping\n",
        "    early_stopping(avg_valid_loss)\n",
        "    if early_stopping.early_stop:\n",
        "        print(\"Early stopping triggered\")\n",
        "        break"
      ],
      "metadata": {
        "colab": {
          "base_uri": "https://localhost:8080/"
        },
        "id": "KeYp2bA-LCBW",
        "outputId": "89e51f45-e1b2-4cd1-e795-24316c472464"
      },
      "execution_count": null,
      "outputs": [
        {
          "output_type": "stream",
          "name": "stdout",
          "text": [
            "Epoch:  0\n"
          ]
        },
        {
          "output_type": "stream",
          "name": "stderr",
          "text": [
            "100%|██████████| 61/61 [00:01<00:00, 36.95it/s]\n"
          ]
        },
        {
          "output_type": "stream",
          "name": "stdout",
          "text": [
            "Train Loss: 0.7026789970085269\n"
          ]
        },
        {
          "output_type": "stream",
          "name": "stderr",
          "text": [
            "100%|██████████| 8/8 [00:00<00:00, 179.63it/s]\n"
          ]
        },
        {
          "output_type": "stream",
          "name": "stdout",
          "text": [
            "Validation Loss: 1.573865532875061\n",
            "Validation Loss Decreased(inf--->1.573866 \t Saving The Model\n",
            "=> Saving checkpoint\n",
            "Epoch:  1\n"
          ]
        },
        {
          "output_type": "stream",
          "name": "stderr",
          "text": [
            "100%|██████████| 61/61 [00:01<00:00, 55.53it/s]\n"
          ]
        },
        {
          "output_type": "stream",
          "name": "stdout",
          "text": [
            "Train Loss: 0.6164400599530486\n"
          ]
        },
        {
          "output_type": "stream",
          "name": "stderr",
          "text": [
            "100%|██████████| 8/8 [00:00<00:00, 194.11it/s]\n"
          ]
        },
        {
          "output_type": "stream",
          "name": "stdout",
          "text": [
            "Validation Loss: 0.6451971121132374\n",
            "Validation Loss Decreased(1.573866--->0.645197 \t Saving The Model\n",
            "=> Saving checkpoint\n",
            "Epoch:  2\n"
          ]
        },
        {
          "output_type": "stream",
          "name": "stderr",
          "text": [
            "100%|██████████| 61/61 [00:01<00:00, 49.23it/s]\n"
          ]
        },
        {
          "output_type": "stream",
          "name": "stdout",
          "text": [
            "Train Loss: 0.4827988884243809\n"
          ]
        },
        {
          "output_type": "stream",
          "name": "stderr",
          "text": [
            "100%|██████████| 8/8 [00:00<00:00, 87.30it/s]\n"
          ]
        },
        {
          "output_type": "stream",
          "name": "stdout",
          "text": [
            "Validation Loss: 0.3834530618041754\n",
            "Validation Loss Decreased(0.645197--->0.383453 \t Saving The Model\n",
            "=> Saving checkpoint\n",
            "Epoch:  3\n"
          ]
        },
        {
          "output_type": "stream",
          "name": "stderr",
          "text": [
            "100%|██████████| 61/61 [00:01<00:00, 55.47it/s]\n"
          ]
        },
        {
          "output_type": "stream",
          "name": "stdout",
          "text": [
            "Train Loss: 0.40338920520954447\n"
          ]
        },
        {
          "output_type": "stream",
          "name": "stderr",
          "text": [
            "100%|██████████| 8/8 [00:00<00:00, 173.94it/s]\n"
          ]
        },
        {
          "output_type": "stream",
          "name": "stdout",
          "text": [
            "Validation Loss: 0.3726926650851965\n",
            "Validation Loss Decreased(0.383453--->0.372693 \t Saving The Model\n",
            "=> Saving checkpoint\n",
            "Epoch:  4\n"
          ]
        },
        {
          "output_type": "stream",
          "name": "stderr",
          "text": [
            "100%|██████████| 61/61 [00:00<00:00, 68.99it/s]\n"
          ]
        },
        {
          "output_type": "stream",
          "name": "stdout",
          "text": [
            "Train Loss: 0.370068084998209\n"
          ]
        },
        {
          "output_type": "stream",
          "name": "stderr",
          "text": [
            "100%|██████████| 8/8 [00:00<00:00, 208.29it/s]\n"
          ]
        },
        {
          "output_type": "stream",
          "name": "stdout",
          "text": [
            "Validation Loss: 0.34889371506869793\n",
            "Validation Loss Decreased(0.372693--->0.348894 \t Saving The Model\n",
            "=> Saving checkpoint\n",
            "Epoch:  5\n"
          ]
        },
        {
          "output_type": "stream",
          "name": "stderr",
          "text": [
            "100%|██████████| 61/61 [00:00<00:00, 68.20it/s]\n"
          ]
        },
        {
          "output_type": "stream",
          "name": "stdout",
          "text": [
            "Train Loss: 0.3631135684544923\n"
          ]
        },
        {
          "output_type": "stream",
          "name": "stderr",
          "text": [
            "100%|██████████| 8/8 [00:00<00:00, 271.39it/s]\n"
          ]
        },
        {
          "output_type": "stream",
          "name": "stdout",
          "text": [
            "Validation Loss: 0.3462874349206686\n",
            "Validation Loss Decreased(0.348894--->0.346287 \t Saving The Model\n",
            "=> Saving checkpoint\n",
            "Epoch:  6\n"
          ]
        },
        {
          "output_type": "stream",
          "name": "stderr",
          "text": [
            "100%|██████████| 61/61 [00:00<00:00, 102.76it/s]\n"
          ]
        },
        {
          "output_type": "stream",
          "name": "stdout",
          "text": [
            "Train Loss: 0.3626358171955484\n"
          ]
        },
        {
          "output_type": "stream",
          "name": "stderr",
          "text": [
            "100%|██████████| 8/8 [00:00<00:00, 282.45it/s]\n"
          ]
        },
        {
          "output_type": "stream",
          "name": "stdout",
          "text": [
            "Validation Loss: 0.34475963190197945\n",
            "Validation Loss Decreased(0.346287--->0.344760 \t Saving The Model\n",
            "=> Saving checkpoint\n",
            "Epoch:  7\n"
          ]
        },
        {
          "output_type": "stream",
          "name": "stderr",
          "text": [
            "100%|██████████| 61/61 [00:00<00:00, 98.98it/s]\n"
          ]
        },
        {
          "output_type": "stream",
          "name": "stdout",
          "text": [
            "Train Loss: 0.3616337787176742\n"
          ]
        },
        {
          "output_type": "stream",
          "name": "stderr",
          "text": [
            "100%|██████████| 8/8 [00:00<00:00, 236.55it/s]\n"
          ]
        },
        {
          "output_type": "stream",
          "name": "stdout",
          "text": [
            "Validation Loss: 0.3442964646965265\n",
            "Validation Loss Decreased(0.344760--->0.344296 \t Saving The Model\n",
            "=> Saving checkpoint\n",
            "Epoch:  8\n"
          ]
        },
        {
          "output_type": "stream",
          "name": "stderr",
          "text": [
            "100%|██████████| 61/61 [00:00<00:00, 102.69it/s]\n"
          ]
        },
        {
          "output_type": "stream",
          "name": "stdout",
          "text": [
            "Train Loss: 0.36053248446007247\n"
          ]
        },
        {
          "output_type": "stream",
          "name": "stderr",
          "text": [
            "100%|██████████| 8/8 [00:00<00:00, 265.77it/s]\n"
          ]
        },
        {
          "output_type": "stream",
          "name": "stdout",
          "text": [
            "Validation Loss: 0.34387549571692944\n",
            "Validation Loss Decreased(0.344296--->0.343875 \t Saving The Model\n",
            "=> Saving checkpoint\n",
            "Epoch:  9\n"
          ]
        },
        {
          "output_type": "stream",
          "name": "stderr",
          "text": [
            "100%|██████████| 61/61 [00:00<00:00, 99.41it/s]\n"
          ]
        },
        {
          "output_type": "stream",
          "name": "stdout",
          "text": [
            "Train Loss: 0.3583193478769943\n"
          ]
        },
        {
          "output_type": "stream",
          "name": "stderr",
          "text": [
            "100%|██████████| 8/8 [00:00<00:00, 298.67it/s]\n"
          ]
        },
        {
          "output_type": "stream",
          "name": "stdout",
          "text": [
            "Validation Loss: 0.343329718336463\n",
            "Validation Loss Decreased(0.343875--->0.343330 \t Saving The Model\n",
            "=> Saving checkpoint\n",
            "Epoch:  10\n"
          ]
        },
        {
          "output_type": "stream",
          "name": "stderr",
          "text": [
            "100%|██████████| 61/61 [00:00<00:00, 98.72it/s]\n"
          ]
        },
        {
          "output_type": "stream",
          "name": "stdout",
          "text": [
            "Train Loss: 0.35803087055683136\n"
          ]
        },
        {
          "output_type": "stream",
          "name": "stderr",
          "text": [
            "100%|██████████| 8/8 [00:00<00:00, 249.53it/s]\n"
          ]
        },
        {
          "output_type": "stream",
          "name": "stdout",
          "text": [
            "Validation Loss: 0.3427331056445837\n",
            "Validation Loss Decreased(0.343330--->0.342733 \t Saving The Model\n",
            "=> Saving checkpoint\n",
            "Epoch:  11\n"
          ]
        },
        {
          "output_type": "stream",
          "name": "stderr",
          "text": [
            "100%|██████████| 61/61 [00:00<00:00, 103.98it/s]\n"
          ]
        },
        {
          "output_type": "stream",
          "name": "stdout",
          "text": [
            "Train Loss: 0.3587152854096694\n"
          ]
        },
        {
          "output_type": "stream",
          "name": "stderr",
          "text": [
            "100%|██████████| 8/8 [00:00<00:00, 274.25it/s]\n"
          ]
        },
        {
          "output_type": "stream",
          "name": "stdout",
          "text": [
            "Validation Loss: 0.3419945351779461\n",
            "Validation Loss Decreased(0.342733--->0.341995 \t Saving The Model\n",
            "=> Saving checkpoint\n",
            "Epoch:  12\n"
          ]
        },
        {
          "output_type": "stream",
          "name": "stderr",
          "text": [
            "100%|██████████| 61/61 [00:00<00:00, 103.14it/s]\n"
          ]
        },
        {
          "output_type": "stream",
          "name": "stdout",
          "text": [
            "Train Loss: 0.36032381153008974\n"
          ]
        },
        {
          "output_type": "stream",
          "name": "stderr",
          "text": [
            "100%|██████████| 8/8 [00:00<00:00, 266.72it/s]\n"
          ]
        },
        {
          "output_type": "stream",
          "name": "stdout",
          "text": [
            "Validation Loss: 0.34148807264864445\n",
            "Validation Loss Decreased(0.341995--->0.341488 \t Saving The Model\n",
            "=> Saving checkpoint\n",
            "Epoch:  13\n"
          ]
        },
        {
          "output_type": "stream",
          "name": "stderr",
          "text": [
            "100%|██████████| 61/61 [00:00<00:00, 102.75it/s]\n"
          ]
        },
        {
          "output_type": "stream",
          "name": "stdout",
          "text": [
            "Train Loss: 0.36031755377523234\n"
          ]
        },
        {
          "output_type": "stream",
          "name": "stderr",
          "text": [
            "100%|██████████| 8/8 [00:00<00:00, 275.45it/s]\n"
          ]
        },
        {
          "output_type": "stream",
          "name": "stdout",
          "text": [
            "Validation Loss: 0.3408801984041929\n",
            "Validation Loss Decreased(0.341488--->0.340880 \t Saving The Model\n",
            "=> Saving checkpoint\n",
            "Epoch:  14\n"
          ]
        },
        {
          "output_type": "stream",
          "name": "stderr",
          "text": [
            "100%|██████████| 61/61 [00:00<00:00, 105.86it/s]\n"
          ]
        },
        {
          "output_type": "stream",
          "name": "stdout",
          "text": [
            "Train Loss: 0.358091800672109\n"
          ]
        },
        {
          "output_type": "stream",
          "name": "stderr",
          "text": [
            "100%|██████████| 8/8 [00:00<00:00, 270.13it/s]\n"
          ]
        },
        {
          "output_type": "stream",
          "name": "stdout",
          "text": [
            "Validation Loss: 0.34044436179101467\n",
            "Validation Loss Decreased(0.340880--->0.340444 \t Saving The Model\n",
            "=> Saving checkpoint\n",
            "Epoch:  15\n"
          ]
        },
        {
          "output_type": "stream",
          "name": "stderr",
          "text": [
            "100%|██████████| 61/61 [00:00<00:00, 96.37it/s]\n"
          ]
        },
        {
          "output_type": "stream",
          "name": "stdout",
          "text": [
            "Train Loss: 0.3629292796869747\n"
          ]
        },
        {
          "output_type": "stream",
          "name": "stderr",
          "text": [
            "100%|██████████| 8/8 [00:00<00:00, 256.55it/s]\n"
          ]
        },
        {
          "output_type": "stream",
          "name": "stdout",
          "text": [
            "Validation Loss: 0.33977372013032436\n",
            "Validation Loss Decreased(0.340444--->0.339774 \t Saving The Model\n",
            "=> Saving checkpoint\n",
            "Epoch:  16\n"
          ]
        },
        {
          "output_type": "stream",
          "name": "stderr",
          "text": [
            "100%|██████████| 61/61 [00:00<00:00, 96.04it/s]\n"
          ]
        },
        {
          "output_type": "stream",
          "name": "stdout",
          "text": [
            "Train Loss: 0.3612954085234736\n"
          ]
        },
        {
          "output_type": "stream",
          "name": "stderr",
          "text": [
            "100%|██████████| 8/8 [00:00<00:00, 266.31it/s]\n"
          ]
        },
        {
          "output_type": "stream",
          "name": "stdout",
          "text": [
            "Validation Loss: 0.33930383808910847\n",
            "Validation Loss Decreased(0.339774--->0.339304 \t Saving The Model\n",
            "=> Saving checkpoint\n",
            "Epoch:  17\n"
          ]
        },
        {
          "output_type": "stream",
          "name": "stderr",
          "text": [
            "100%|██████████| 61/61 [00:00<00:00, 101.97it/s]\n"
          ]
        },
        {
          "output_type": "stream",
          "name": "stdout",
          "text": [
            "Train Loss: 0.3576959685468283\n"
          ]
        },
        {
          "output_type": "stream",
          "name": "stderr",
          "text": [
            "100%|██████████| 8/8 [00:00<00:00, 270.98it/s]\n"
          ]
        },
        {
          "output_type": "stream",
          "name": "stdout",
          "text": [
            "Validation Loss: 0.3388109505176544\n",
            "Validation Loss Decreased(0.339304--->0.338811 \t Saving The Model\n",
            "=> Saving checkpoint\n",
            "Epoch:  18\n"
          ]
        },
        {
          "output_type": "stream",
          "name": "stderr",
          "text": [
            "100%|██████████| 61/61 [00:00<00:00, 102.14it/s]\n"
          ]
        },
        {
          "output_type": "stream",
          "name": "stdout",
          "text": [
            "Train Loss: 0.3592829058160547\n"
          ]
        },
        {
          "output_type": "stream",
          "name": "stderr",
          "text": [
            "100%|██████████| 8/8 [00:00<00:00, 269.63it/s]\n"
          ]
        },
        {
          "output_type": "stream",
          "name": "stdout",
          "text": [
            "Validation Loss: 0.33818904496729374\n",
            "Validation Loss Decreased(0.338811--->0.338189 \t Saving The Model\n",
            "=> Saving checkpoint\n",
            "Epoch:  19\n"
          ]
        },
        {
          "output_type": "stream",
          "name": "stderr",
          "text": [
            "100%|██████████| 61/61 [00:00<00:00, 103.19it/s]\n"
          ]
        },
        {
          "output_type": "stream",
          "name": "stdout",
          "text": [
            "Train Loss: 0.356387088044745\n"
          ]
        },
        {
          "output_type": "stream",
          "name": "stderr",
          "text": [
            "100%|██████████| 8/8 [00:00<00:00, 236.15it/s]\n"
          ]
        },
        {
          "output_type": "stream",
          "name": "stdout",
          "text": [
            "Validation Loss: 0.33763255923986435\n",
            "Validation Loss Decreased(0.338189--->0.337633 \t Saving The Model\n",
            "=> Saving checkpoint\n",
            "Epoch:  20\n"
          ]
        },
        {
          "output_type": "stream",
          "name": "stderr",
          "text": [
            "100%|██████████| 61/61 [00:00<00:00, 101.63it/s]\n"
          ]
        },
        {
          "output_type": "stream",
          "name": "stdout",
          "text": [
            "Train Loss: 0.3606629592717671\n"
          ]
        },
        {
          "output_type": "stream",
          "name": "stderr",
          "text": [
            "100%|██████████| 8/8 [00:00<00:00, 263.69it/s]\n"
          ]
        },
        {
          "output_type": "stream",
          "name": "stdout",
          "text": [
            "Validation Loss: 0.33706338331103325\n",
            "Validation Loss Decreased(0.337633--->0.337063 \t Saving The Model\n",
            "=> Saving checkpoint\n",
            "Epoch:  21\n"
          ]
        },
        {
          "output_type": "stream",
          "name": "stderr",
          "text": [
            "100%|██████████| 61/61 [00:00<00:00, 75.36it/s]\n"
          ]
        },
        {
          "output_type": "stream",
          "name": "stdout",
          "text": [
            "Train Loss: 0.35983491078263424\n"
          ]
        },
        {
          "output_type": "stream",
          "name": "stderr",
          "text": [
            "100%|██████████| 8/8 [00:00<00:00, 220.14it/s]\n"
          ]
        },
        {
          "output_type": "stream",
          "name": "stdout",
          "text": [
            "Validation Loss: 0.3365657217800617\n",
            "Validation Loss Decreased(0.337063--->0.336566 \t Saving The Model\n",
            "=> Saving checkpoint\n",
            "Epoch:  22\n"
          ]
        },
        {
          "output_type": "stream",
          "name": "stderr",
          "text": [
            "100%|██████████| 61/61 [00:00<00:00, 71.92it/s]\n"
          ]
        },
        {
          "output_type": "stream",
          "name": "stdout",
          "text": [
            "Train Loss: 0.3579240300860561\n"
          ]
        },
        {
          "output_type": "stream",
          "name": "stderr",
          "text": [
            "100%|██████████| 8/8 [00:00<00:00, 188.33it/s]\n"
          ]
        },
        {
          "output_type": "stream",
          "name": "stdout",
          "text": [
            "Validation Loss: 0.336020790040493\n",
            "Validation Loss Decreased(0.336566--->0.336021 \t Saving The Model\n",
            "=> Saving checkpoint\n",
            "Epoch:  23\n"
          ]
        },
        {
          "output_type": "stream",
          "name": "stderr",
          "text": [
            "100%|██████████| 61/61 [00:00<00:00, 68.94it/s]\n"
          ]
        },
        {
          "output_type": "stream",
          "name": "stdout",
          "text": [
            "Train Loss: 0.35344032845536216\n"
          ]
        },
        {
          "output_type": "stream",
          "name": "stderr",
          "text": [
            "100%|██████████| 8/8 [00:00<00:00, 182.19it/s]\n"
          ]
        },
        {
          "output_type": "stream",
          "name": "stdout",
          "text": [
            "Validation Loss: 0.33579805865883827\n",
            "Validation Loss Decreased(0.336021--->0.335798 \t Saving The Model\n",
            "=> Saving checkpoint\n",
            "Epoch:  24\n"
          ]
        },
        {
          "output_type": "stream",
          "name": "stderr",
          "text": [
            "100%|██████████| 61/61 [00:00<00:00, 76.04it/s]\n"
          ]
        },
        {
          "output_type": "stream",
          "name": "stdout",
          "text": [
            "Train Loss: 0.35572432641123164\n"
          ]
        },
        {
          "output_type": "stream",
          "name": "stderr",
          "text": [
            "100%|██████████| 8/8 [00:00<00:00, 280.49it/s]\n"
          ]
        },
        {
          "output_type": "stream",
          "name": "stdout",
          "text": [
            "Validation Loss: 0.335514634847641\n",
            "Validation Loss Decreased(0.335798--->0.335515 \t Saving The Model\n",
            "=> Saving checkpoint\n",
            "Epoch:  25\n"
          ]
        },
        {
          "output_type": "stream",
          "name": "stderr",
          "text": [
            "100%|██████████| 61/61 [00:00<00:00, 101.02it/s]\n"
          ]
        },
        {
          "output_type": "stream",
          "name": "stdout",
          "text": [
            "Train Loss: 0.35493436272515627\n"
          ]
        },
        {
          "output_type": "stream",
          "name": "stderr",
          "text": [
            "100%|██████████| 8/8 [00:00<00:00, 265.91it/s]\n"
          ]
        },
        {
          "output_type": "stream",
          "name": "stdout",
          "text": [
            "Validation Loss: 0.33517971634864807\n",
            "Validation Loss Decreased(0.335515--->0.335180 \t Saving The Model\n",
            "=> Saving checkpoint\n",
            "Epoch:  26\n"
          ]
        },
        {
          "output_type": "stream",
          "name": "stderr",
          "text": [
            "100%|██████████| 61/61 [00:00<00:00, 103.87it/s]\n"
          ]
        },
        {
          "output_type": "stream",
          "name": "stdout",
          "text": [
            "Train Loss: 0.3520863879410947\n"
          ]
        },
        {
          "output_type": "stream",
          "name": "stderr",
          "text": [
            "100%|██████████| 8/8 [00:00<00:00, 250.59it/s]\n"
          ]
        },
        {
          "output_type": "stream",
          "name": "stdout",
          "text": [
            "Validation Loss: 0.33461105078458786\n",
            "Validation Loss Decreased(0.335180--->0.334611 \t Saving The Model\n",
            "=> Saving checkpoint\n",
            "Epoch:  27\n"
          ]
        },
        {
          "output_type": "stream",
          "name": "stderr",
          "text": [
            "100%|██████████| 61/61 [00:00<00:00, 101.13it/s]\n"
          ]
        },
        {
          "output_type": "stream",
          "name": "stdout",
          "text": [
            "Train Loss: 0.35419217790247964\n"
          ]
        },
        {
          "output_type": "stream",
          "name": "stderr",
          "text": [
            "100%|██████████| 8/8 [00:00<00:00, 262.03it/s]\n"
          ]
        },
        {
          "output_type": "stream",
          "name": "stdout",
          "text": [
            "Validation Loss: 0.3343365825712681\n",
            "Validation Loss Decreased(0.334611--->0.334337 \t Saving The Model\n",
            "=> Saving checkpoint\n",
            "Epoch:  28\n"
          ]
        },
        {
          "output_type": "stream",
          "name": "stderr",
          "text": [
            "100%|██████████| 61/61 [00:00<00:00, 102.39it/s]\n"
          ]
        },
        {
          "output_type": "stream",
          "name": "stdout",
          "text": [
            "Train Loss: 0.3539183430495809\n"
          ]
        },
        {
          "output_type": "stream",
          "name": "stderr",
          "text": [
            "100%|██████████| 8/8 [00:00<00:00, 297.31it/s]\n"
          ]
        },
        {
          "output_type": "stream",
          "name": "stdout",
          "text": [
            "Validation Loss: 0.3337559085339308\n",
            "Validation Loss Decreased(0.334337--->0.333756 \t Saving The Model\n",
            "=> Saving checkpoint\n",
            "Epoch:  29\n"
          ]
        },
        {
          "output_type": "stream",
          "name": "stderr",
          "text": [
            "100%|██████████| 61/61 [00:00<00:00, 105.39it/s]\n"
          ]
        },
        {
          "output_type": "stream",
          "name": "stdout",
          "text": [
            "Train Loss: 0.3516895680642519\n"
          ]
        },
        {
          "output_type": "stream",
          "name": "stderr",
          "text": [
            "100%|██████████| 8/8 [00:00<00:00, 255.38it/s]\n"
          ]
        },
        {
          "output_type": "stream",
          "name": "stdout",
          "text": [
            "Validation Loss: 0.33370067551732063\n",
            "Validation Loss Decreased(0.333756--->0.333701 \t Saving The Model\n",
            "=> Saving checkpoint\n",
            "EarlyStopping counter: 1 out of 20\n",
            "Epoch:  30\n"
          ]
        },
        {
          "output_type": "stream",
          "name": "stderr",
          "text": [
            "100%|██████████| 61/61 [00:00<00:00, 102.53it/s]\n"
          ]
        },
        {
          "output_type": "stream",
          "name": "stdout",
          "text": [
            "Train Loss: 0.3542836116718464\n"
          ]
        },
        {
          "output_type": "stream",
          "name": "stderr",
          "text": [
            "100%|██████████| 8/8 [00:00<00:00, 253.26it/s]\n"
          ]
        },
        {
          "output_type": "stream",
          "name": "stdout",
          "text": [
            "Validation Loss: 0.3332568407058716\n",
            "Validation Loss Decreased(0.333701--->0.333257 \t Saving The Model\n",
            "=> Saving checkpoint\n",
            "Epoch:  31\n"
          ]
        },
        {
          "output_type": "stream",
          "name": "stderr",
          "text": [
            "100%|██████████| 61/61 [00:00<00:00, 103.96it/s]\n"
          ]
        },
        {
          "output_type": "stream",
          "name": "stdout",
          "text": [
            "Train Loss: 0.3525075653537375\n"
          ]
        },
        {
          "output_type": "stream",
          "name": "stderr",
          "text": [
            "100%|██████████| 8/8 [00:00<00:00, 250.90it/s]\n"
          ]
        },
        {
          "output_type": "stream",
          "name": "stdout",
          "text": [
            "Validation Loss: 0.3331295270472765\n",
            "Validation Loss Decreased(0.333257--->0.333130 \t Saving The Model\n",
            "=> Saving checkpoint\n",
            "Epoch:  32\n"
          ]
        },
        {
          "output_type": "stream",
          "name": "stderr",
          "text": [
            "100%|██████████| 61/61 [00:00<00:00, 101.95it/s]\n"
          ]
        },
        {
          "output_type": "stream",
          "name": "stdout",
          "text": [
            "Train Loss: 0.35057701756719684\n"
          ]
        },
        {
          "output_type": "stream",
          "name": "stderr",
          "text": [
            "100%|██████████| 8/8 [00:00<00:00, 216.91it/s]\n"
          ]
        },
        {
          "output_type": "stream",
          "name": "stdout",
          "text": [
            "Validation Loss: 0.3329805936664343\n",
            "Validation Loss Decreased(0.333130--->0.332981 \t Saving The Model\n",
            "=> Saving checkpoint\n",
            "Epoch:  33\n"
          ]
        },
        {
          "output_type": "stream",
          "name": "stderr",
          "text": [
            "100%|██████████| 61/61 [00:00<00:00, 100.70it/s]\n"
          ]
        },
        {
          "output_type": "stream",
          "name": "stdout",
          "text": [
            "Train Loss: 0.3559571139392306\n"
          ]
        },
        {
          "output_type": "stream",
          "name": "stderr",
          "text": [
            "100%|██████████| 8/8 [00:00<00:00, 250.91it/s]\n"
          ]
        },
        {
          "output_type": "stream",
          "name": "stdout",
          "text": [
            "Validation Loss: 0.3328934758901596\n",
            "Validation Loss Decreased(0.332981--->0.332893 \t Saving The Model\n",
            "=> Saving checkpoint\n",
            "EarlyStopping counter: 1 out of 20\n",
            "Epoch:  34\n"
          ]
        },
        {
          "output_type": "stream",
          "name": "stderr",
          "text": [
            "100%|██████████| 61/61 [00:00<00:00, 106.50it/s]\n"
          ]
        },
        {
          "output_type": "stream",
          "name": "stdout",
          "text": [
            "Train Loss: 0.35326556189626945\n"
          ]
        },
        {
          "output_type": "stream",
          "name": "stderr",
          "text": [
            "100%|██████████| 8/8 [00:00<00:00, 259.68it/s]\n"
          ]
        },
        {
          "output_type": "stream",
          "name": "stdout",
          "text": [
            "Validation Loss: 0.33285389095544815\n",
            "Validation Loss Decreased(0.332893--->0.332854 \t Saving The Model\n",
            "=> Saving checkpoint\n",
            "Epoch:  35\n"
          ]
        },
        {
          "output_type": "stream",
          "name": "stderr",
          "text": [
            "100%|██████████| 61/61 [00:00<00:00, 98.15it/s]\n"
          ]
        },
        {
          "output_type": "stream",
          "name": "stdout",
          "text": [
            "Train Loss: 0.35354307159537174\n"
          ]
        },
        {
          "output_type": "stream",
          "name": "stderr",
          "text": [
            "100%|██████████| 8/8 [00:00<00:00, 254.73it/s]\n"
          ]
        },
        {
          "output_type": "stream",
          "name": "stdout",
          "text": [
            "Validation Loss: 0.3330157585442066\n",
            "EarlyStopping counter: 1 out of 20\n",
            "Epoch:  36\n"
          ]
        },
        {
          "output_type": "stream",
          "name": "stderr",
          "text": [
            "100%|██████████| 61/61 [00:00<00:00, 100.28it/s]\n"
          ]
        },
        {
          "output_type": "stream",
          "name": "stdout",
          "text": [
            "Train Loss: 0.3526866098896402\n"
          ]
        },
        {
          "output_type": "stream",
          "name": "stderr",
          "text": [
            "100%|██████████| 8/8 [00:00<00:00, 251.76it/s]\n"
          ]
        },
        {
          "output_type": "stream",
          "name": "stdout",
          "text": [
            "Validation Loss: 0.3328161686658859\n",
            "Validation Loss Decreased(0.332854--->0.332816 \t Saving The Model\n",
            "=> Saving checkpoint\n",
            "EarlyStopping counter: 2 out of 20\n",
            "Epoch:  37\n"
          ]
        },
        {
          "output_type": "stream",
          "name": "stderr",
          "text": [
            "100%|██████████| 61/61 [00:00<00:00, 101.76it/s]\n"
          ]
        },
        {
          "output_type": "stream",
          "name": "stdout",
          "text": [
            "Train Loss: 0.3512672802708188\n"
          ]
        },
        {
          "output_type": "stream",
          "name": "stderr",
          "text": [
            "100%|██████████| 8/8 [00:00<00:00, 276.17it/s]\n"
          ]
        },
        {
          "output_type": "stream",
          "name": "stdout",
          "text": [
            "Validation Loss: 0.3324897475540638\n",
            "Validation Loss Decreased(0.332816--->0.332490 \t Saving The Model\n",
            "=> Saving checkpoint\n",
            "Epoch:  38\n"
          ]
        },
        {
          "output_type": "stream",
          "name": "stderr",
          "text": [
            "100%|██████████| 61/61 [00:00<00:00, 98.53it/s]\n"
          ]
        },
        {
          "output_type": "stream",
          "name": "stdout",
          "text": [
            "Train Loss: 0.3500629292159784\n"
          ]
        },
        {
          "output_type": "stream",
          "name": "stderr",
          "text": [
            "100%|██████████| 8/8 [00:00<00:00, 260.69it/s]\n"
          ]
        },
        {
          "output_type": "stream",
          "name": "stdout",
          "text": [
            "Validation Loss: 0.3327603545039892\n",
            "EarlyStopping counter: 1 out of 20\n",
            "Epoch:  39\n"
          ]
        },
        {
          "output_type": "stream",
          "name": "stderr",
          "text": [
            "100%|██████████| 61/61 [00:00<00:00, 100.06it/s]\n"
          ]
        },
        {
          "output_type": "stream",
          "name": "stdout",
          "text": [
            "Train Loss: 0.34906962135287584\n"
          ]
        },
        {
          "output_type": "stream",
          "name": "stderr",
          "text": [
            "100%|██████████| 8/8 [00:00<00:00, 155.37it/s]\n"
          ]
        },
        {
          "output_type": "stream",
          "name": "stdout",
          "text": [
            "Validation Loss: 0.33281598798930645\n",
            "EarlyStopping counter: 2 out of 20\n",
            "Epoch:  40\n"
          ]
        },
        {
          "output_type": "stream",
          "name": "stderr",
          "text": [
            "100%|██████████| 61/61 [00:00<00:00, 70.79it/s]\n"
          ]
        },
        {
          "output_type": "stream",
          "name": "stdout",
          "text": [
            "Train Loss: 0.3525242127600263\n"
          ]
        },
        {
          "output_type": "stream",
          "name": "stderr",
          "text": [
            "100%|██████████| 8/8 [00:00<00:00, 215.39it/s]\n"
          ]
        },
        {
          "output_type": "stream",
          "name": "stdout",
          "text": [
            "Validation Loss: 0.3327973075211048\n",
            "EarlyStopping counter: 3 out of 20\n",
            "Epoch:  41\n"
          ]
        },
        {
          "output_type": "stream",
          "name": "stderr",
          "text": [
            "100%|██████████| 61/61 [00:00<00:00, 73.04it/s]\n"
          ]
        },
        {
          "output_type": "stream",
          "name": "stdout",
          "text": [
            "Train Loss: 0.3520034727503042\n"
          ]
        },
        {
          "output_type": "stream",
          "name": "stderr",
          "text": [
            "100%|██████████| 8/8 [00:00<00:00, 138.04it/s]\n"
          ]
        },
        {
          "output_type": "stream",
          "name": "stdout",
          "text": [
            "Validation Loss: 0.3330211974680424\n",
            "EarlyStopping counter: 4 out of 20\n",
            "Epoch:  42\n"
          ]
        },
        {
          "output_type": "stream",
          "name": "stderr",
          "text": [
            "100%|██████████| 61/61 [00:00<00:00, 63.03it/s]\n"
          ]
        },
        {
          "output_type": "stream",
          "name": "stdout",
          "text": [
            "Train Loss: 0.34713173547729115\n"
          ]
        },
        {
          "output_type": "stream",
          "name": "stderr",
          "text": [
            "100%|██████████| 8/8 [00:00<00:00, 148.35it/s]\n"
          ]
        },
        {
          "output_type": "stream",
          "name": "stdout",
          "text": [
            "Validation Loss: 0.3331135790795088\n",
            "EarlyStopping counter: 5 out of 20\n",
            "Epoch:  43\n"
          ]
        },
        {
          "output_type": "stream",
          "name": "stderr",
          "text": [
            "100%|██████████| 61/61 [00:00<00:00, 91.16it/s]\n"
          ]
        },
        {
          "output_type": "stream",
          "name": "stdout",
          "text": [
            "Train Loss: 0.3474031091957796\n"
          ]
        },
        {
          "output_type": "stream",
          "name": "stderr",
          "text": [
            "100%|██████████| 8/8 [00:00<00:00, 288.63it/s]\n"
          ]
        },
        {
          "output_type": "stream",
          "name": "stdout",
          "text": [
            "Validation Loss: 0.33299356885254383\n",
            "EarlyStopping counter: 6 out of 20\n",
            "Epoch:  44\n"
          ]
        },
        {
          "output_type": "stream",
          "name": "stderr",
          "text": [
            "100%|██████████| 61/61 [00:00<00:00, 101.42it/s]\n"
          ]
        },
        {
          "output_type": "stream",
          "name": "stdout",
          "text": [
            "Train Loss: 0.3489503036024141\n"
          ]
        },
        {
          "output_type": "stream",
          "name": "stderr",
          "text": [
            "100%|██████████| 8/8 [00:00<00:00, 255.89it/s]\n"
          ]
        },
        {
          "output_type": "stream",
          "name": "stdout",
          "text": [
            "Validation Loss: 0.3330357875674963\n",
            "EarlyStopping counter: 7 out of 20\n",
            "Epoch:  45\n"
          ]
        },
        {
          "output_type": "stream",
          "name": "stderr",
          "text": [
            "100%|██████████| 61/61 [00:00<00:00, 99.37it/s] \n"
          ]
        },
        {
          "output_type": "stream",
          "name": "stdout",
          "text": [
            "Train Loss: 0.35114310657391784\n"
          ]
        },
        {
          "output_type": "stream",
          "name": "stderr",
          "text": [
            "100%|██████████| 8/8 [00:00<00:00, 256.17it/s]\n"
          ]
        },
        {
          "output_type": "stream",
          "name": "stdout",
          "text": [
            "Validation Loss: 0.33332398161292076\n",
            "EarlyStopping counter: 8 out of 20\n",
            "Epoch:  46\n"
          ]
        },
        {
          "output_type": "stream",
          "name": "stderr",
          "text": [
            "100%|██████████| 61/61 [00:00<00:00, 100.09it/s]\n"
          ]
        },
        {
          "output_type": "stream",
          "name": "stdout",
          "text": [
            "Train Loss: 0.3480003087735567\n"
          ]
        },
        {
          "output_type": "stream",
          "name": "stderr",
          "text": [
            "100%|██████████| 8/8 [00:00<00:00, 253.18it/s]\n"
          ]
        },
        {
          "output_type": "stream",
          "name": "stdout",
          "text": [
            "Validation Loss: 0.33331212773919106\n",
            "EarlyStopping counter: 9 out of 20\n",
            "Epoch:  47\n"
          ]
        },
        {
          "output_type": "stream",
          "name": "stderr",
          "text": [
            "100%|██████████| 61/61 [00:00<00:00, 103.57it/s]\n"
          ]
        },
        {
          "output_type": "stream",
          "name": "stdout",
          "text": [
            "Train Loss: 0.3510396682092401\n"
          ]
        },
        {
          "output_type": "stream",
          "name": "stderr",
          "text": [
            "100%|██████████| 8/8 [00:00<00:00, 234.84it/s]\n"
          ]
        },
        {
          "output_type": "stream",
          "name": "stdout",
          "text": [
            "Validation Loss: 0.33338411897420883\n",
            "EarlyStopping counter: 10 out of 20\n",
            "Epoch:  48\n"
          ]
        },
        {
          "output_type": "stream",
          "name": "stderr",
          "text": [
            "100%|██████████| 61/61 [00:00<00:00, 93.60it/s]\n"
          ]
        },
        {
          "output_type": "stream",
          "name": "stdout",
          "text": [
            "Train Loss: 0.3502675076244307\n"
          ]
        },
        {
          "output_type": "stream",
          "name": "stderr",
          "text": [
            "100%|██████████| 8/8 [00:00<00:00, 270.37it/s]\n"
          ]
        },
        {
          "output_type": "stream",
          "name": "stdout",
          "text": [
            "Validation Loss: 0.3335437495261431\n",
            "EarlyStopping counter: 11 out of 20\n",
            "Epoch:  49\n"
          ]
        },
        {
          "output_type": "stream",
          "name": "stderr",
          "text": [
            "100%|██████████| 61/61 [00:00<00:00, 94.94it/s]\n"
          ]
        },
        {
          "output_type": "stream",
          "name": "stdout",
          "text": [
            "Train Loss: 0.3463448823475447\n"
          ]
        },
        {
          "output_type": "stream",
          "name": "stderr",
          "text": [
            "100%|██████████| 8/8 [00:00<00:00, 251.78it/s]\n"
          ]
        },
        {
          "output_type": "stream",
          "name": "stdout",
          "text": [
            "Validation Loss: 0.33390626683831215\n",
            "EarlyStopping counter: 12 out of 20\n",
            "Epoch:  50\n"
          ]
        },
        {
          "output_type": "stream",
          "name": "stderr",
          "text": [
            "100%|██████████| 61/61 [00:00<00:00, 97.89it/s]\n"
          ]
        },
        {
          "output_type": "stream",
          "name": "stdout",
          "text": [
            "Train Loss: 0.3472762458392831\n"
          ]
        },
        {
          "output_type": "stream",
          "name": "stderr",
          "text": [
            "100%|██████████| 8/8 [00:00<00:00, 239.28it/s]\n"
          ]
        },
        {
          "output_type": "stream",
          "name": "stdout",
          "text": [
            "Validation Loss: 0.33415220119059086\n",
            "EarlyStopping counter: 13 out of 20\n",
            "Epoch:  51\n"
          ]
        },
        {
          "output_type": "stream",
          "name": "stderr",
          "text": [
            "100%|██████████| 61/61 [00:00<00:00, 101.96it/s]\n"
          ]
        },
        {
          "output_type": "stream",
          "name": "stdout",
          "text": [
            "Train Loss: 0.34815387452234986\n"
          ]
        },
        {
          "output_type": "stream",
          "name": "stderr",
          "text": [
            "100%|██████████| 8/8 [00:00<00:00, 270.66it/s]\n"
          ]
        },
        {
          "output_type": "stream",
          "name": "stdout",
          "text": [
            "Validation Loss: 0.33417269214987755\n",
            "EarlyStopping counter: 14 out of 20\n",
            "Epoch:  52\n"
          ]
        },
        {
          "output_type": "stream",
          "name": "stderr",
          "text": [
            "100%|██████████| 61/61 [00:00<00:00, 100.85it/s]\n"
          ]
        },
        {
          "output_type": "stream",
          "name": "stdout",
          "text": [
            "Train Loss: 0.35063486314210734\n"
          ]
        },
        {
          "output_type": "stream",
          "name": "stderr",
          "text": [
            "100%|██████████| 8/8 [00:00<00:00, 190.88it/s]\n"
          ]
        },
        {
          "output_type": "stream",
          "name": "stdout",
          "text": [
            "Validation Loss: 0.33460828848183155\n",
            "EarlyStopping counter: 15 out of 20\n",
            "Epoch:  53\n"
          ]
        },
        {
          "output_type": "stream",
          "name": "stderr",
          "text": [
            "100%|██████████| 61/61 [00:00<00:00, 101.08it/s]\n"
          ]
        },
        {
          "output_type": "stream",
          "name": "stdout",
          "text": [
            "Train Loss: 0.3499535355167311\n"
          ]
        },
        {
          "output_type": "stream",
          "name": "stderr",
          "text": [
            "100%|██████████| 8/8 [00:00<00:00, 254.55it/s]\n"
          ]
        },
        {
          "output_type": "stream",
          "name": "stdout",
          "text": [
            "Validation Loss: 0.3349186759442091\n",
            "EarlyStopping counter: 16 out of 20\n",
            "Epoch:  54\n"
          ]
        },
        {
          "output_type": "stream",
          "name": "stderr",
          "text": [
            "100%|██████████| 61/61 [00:00<00:00, 99.65it/s] \n"
          ]
        },
        {
          "output_type": "stream",
          "name": "stdout",
          "text": [
            "Train Loss: 0.3478515459621539\n"
          ]
        },
        {
          "output_type": "stream",
          "name": "stderr",
          "text": [
            "100%|██████████| 8/8 [00:00<00:00, 277.55it/s]\n"
          ]
        },
        {
          "output_type": "stream",
          "name": "stdout",
          "text": [
            "Validation Loss: 0.33570115081965923\n",
            "EarlyStopping counter: 17 out of 20\n",
            "Epoch:  55\n"
          ]
        },
        {
          "output_type": "stream",
          "name": "stderr",
          "text": [
            "100%|██████████| 61/61 [00:00<00:00, 97.71it/s]\n"
          ]
        },
        {
          "output_type": "stream",
          "name": "stdout",
          "text": [
            "Train Loss: 0.348351390268959\n"
          ]
        },
        {
          "output_type": "stream",
          "name": "stderr",
          "text": [
            "100%|██████████| 8/8 [00:00<00:00, 279.17it/s]\n"
          ]
        },
        {
          "output_type": "stream",
          "name": "stdout",
          "text": [
            "Validation Loss: 0.33560586348176\n",
            "EarlyStopping counter: 18 out of 20\n",
            "Epoch:  56\n"
          ]
        },
        {
          "output_type": "stream",
          "name": "stderr",
          "text": [
            "100%|██████████| 61/61 [00:00<00:00, 99.15it/s]\n"
          ]
        },
        {
          "output_type": "stream",
          "name": "stdout",
          "text": [
            "Train Loss: 0.3494354149357217\n"
          ]
        },
        {
          "output_type": "stream",
          "name": "stderr",
          "text": [
            "100%|██████████| 8/8 [00:00<00:00, 243.96it/s]\n"
          ]
        },
        {
          "output_type": "stream",
          "name": "stdout",
          "text": [
            "Validation Loss: 0.33551829494535923\n",
            "EarlyStopping counter: 19 out of 20\n",
            "Epoch:  57\n"
          ]
        },
        {
          "output_type": "stream",
          "name": "stderr",
          "text": [
            "100%|██████████| 61/61 [00:00<00:00, 101.21it/s]\n"
          ]
        },
        {
          "output_type": "stream",
          "name": "stdout",
          "text": [
            "Train Loss: 0.34787934823114364\n"
          ]
        },
        {
          "output_type": "stream",
          "name": "stderr",
          "text": [
            "100%|██████████| 8/8 [00:00<00:00, 274.98it/s]"
          ]
        },
        {
          "output_type": "stream",
          "name": "stdout",
          "text": [
            "Validation Loss: 0.3359846957027912\n",
            "EarlyStopping counter: 20 out of 20\n",
            "Early stopping triggered\n"
          ]
        },
        {
          "output_type": "stream",
          "name": "stderr",
          "text": [
            "\n"
          ]
        }
      ]
    },
    {
      "cell_type": "code",
      "source": [
        "model = torch.load(\"/content/model_predict_.pth.tar\", weights_only=False)\n",
        "model.to(device)\n",
        "model.eval()"
      ],
      "metadata": {
        "colab": {
          "base_uri": "https://localhost:8080/"
        },
        "id": "dbeHsemyX03a",
        "outputId": "96f0030a-ec5f-4d60-de1f-347a3e30a840"
      },
      "execution_count": null,
      "outputs": [
        {
          "output_type": "execute_result",
          "data": {
            "text/plain": [
              "LSTM(\n",
              "  (lstm): LSTM(3, 64, num_layers=2, batch_first=True, dropout=0.3)\n",
              "  (dropout): Dropout(p=0.3, inplace=False)\n",
              "  (fc): Linear(in_features=1536, out_features=24, bias=True)\n",
              ")"
            ]
          },
          "metadata": {},
          "execution_count": 220
        }
      ]
    },
    {
      "cell_type": "code",
      "source": [
        "from sklearn.metrics import mean_absolute_error, mean_squared_error"
      ],
      "metadata": {
        "id": "TmZlT-fKQoL5"
      },
      "execution_count": null,
      "outputs": []
    },
    {
      "cell_type": "code",
      "source": [
        "model = torch.load(\"/content/model_predict_.pth.tar\", weights_only=False)\n",
        "model.to(device)\n",
        "model.eval()\n",
        "with torch.no_grad():\n",
        "    flag = 0\n",
        "    # mae_test = 0\n",
        "    total_scores_test = None\n",
        "    total_target_test = None\n",
        "    for data_test,target_test in tqdm(test_data_loader):\n",
        "        # print(target_test)\n",
        "        data_test = data_test.to(device=device,dtype=torch.float32)\n",
        "        target_test = target_test.to(device=device,dtype=torch.float32).squeeze(2)\n",
        "\n",
        "        score_test = model(data_test)\n",
        "\n",
        "        target_test_unstd = Y_scaler.inverse_transform(target_test.cpu())\n",
        "        score_test_unstd = Y_scaler.inverse_transform(score_test.cpu())\n",
        "\n",
        "        if flag == 0:\n",
        "            flag = 1\n",
        "            all_scores = score_test_unstd\n",
        "            all_targets =  target_test_unstd\n",
        "        else:\n",
        "            all_scores = np.concatenate((all_scores,score_test_unstd),axis=0)\n",
        "            all_targets = np.concatenate((all_targets,target_test_unstd),axis=0)\n",
        "\n",
        "\n",
        "all_targets = all_targets.flatten()\n",
        "all_scores = all_scores.flatten()\n",
        "\n",
        "\n",
        "# num_equal_values = np.count_nonzero(all_targets <= 5.3586226e-06)\n",
        "\n",
        "# print(\"Number of values equal to 5.3576226e-06:\", num_equal_values)\n",
        "mask_all_targets = (all_targets > 5.3586226e-06).astype(float)\n",
        "\n",
        "# print(all_targets.shape)\n",
        "# print(all_scores.shape)\n",
        "\n",
        "# print(all_targets)\n",
        "# print(\"==============================================\")\n",
        "# print(all_scores)\n",
        "\n",
        "# print(mask_all_targets.shape)\n",
        "# # print(mask_all_scores.shape)\n",
        "\n",
        "def mse_calculation(output, target, mask):\n",
        "    mse = np.sum(((output - target) * mask) ** 2.0) / np.sum(mask)\n",
        "    return mse\n",
        "def mae_calculation(output, target, mask):\n",
        "    mae = np.sum(np.abs((output - target) * mask)) / np.sum(mask)\n",
        "    return mae\n",
        "\n",
        "mse = mse_calculation(all_scores,all_targets,mask_all_targets)\n",
        "mae = mae_calculation(all_scores,all_targets,mask_all_targets)\n",
        "\n",
        "# mae = mean_absolute_error(all_targets,all_scores)\n",
        "# mse = mean_squared_error(all_targets,all_scores)\n",
        "print(mae)\n",
        "print(mse)"
      ],
      "metadata": {
        "colab": {
          "base_uri": "https://localhost:8080/"
        },
        "id": "_BglKAaoWVzw",
        "outputId": "8551dcc3-5068-4a29-943d-02cf47ee4076"
      },
      "execution_count": null,
      "outputs": [
        {
          "output_type": "stream",
          "name": "stderr",
          "text": [
            "100%|██████████| 8/8 [00:00<00:00, 264.24it/s]"
          ]
        },
        {
          "output_type": "stream",
          "name": "stdout",
          "text": [
            "49.71707605794499\n",
            "5228.910099033514\n"
          ]
        },
        {
          "output_type": "stream",
          "name": "stderr",
          "text": [
            "\n"
          ]
        }
      ]
    },
    {
      "cell_type": "code",
      "source": [
        "import numpy as np\n",
        "import matplotlib.pyplot as plt\n",
        "\n",
        "# Example numpy arrays\n",
        "\n",
        "# Create x values (assuming scores are plotted against index)\n",
        "x = np.arange(len(all_scores[0:200])) + 1\n",
        "\n",
        "# Plot both arrays on the same graph with different colors\n",
        "\n",
        "plt.plot(x, all_targets[0:200], color='red', label='Targets')\n",
        "plt.plot(x, all_scores[0:200], color='blue', label='Scores')\n",
        "\n",
        "# Adding labels, title, and legend\n",
        "plt.xlabel('Index')\n",
        "plt.ylabel('Value')\n",
        "plt.title('Plot of Scores and Targets')\n",
        "plt.legend()\n",
        "\n",
        "# Display the plot\n",
        "plt.grid(True)\n",
        "plt.show()"
      ],
      "metadata": {
        "colab": {
          "base_uri": "https://localhost:8080/",
          "height": 472
        },
        "id": "xdzmbfMgRhQt",
        "outputId": "ba7eeca1-c4c7-4fa1-ada6-7d9c90a4c8c9"
      },
      "execution_count": null,
      "outputs": [
        {
          "output_type": "display_data",
          "data": {
            "text/plain": [
              "<Figure size 640x480 with 1 Axes>"
            ],
            "image/png": "[encoded data removed]"
          },
          "metadata": {}
        }
      ]
    },
    {
      "cell_type": "code",
      "source": [
        "from sklearn.metrics import r2_score\n",
        "\n",
        "r2 = r2_score(all_targets, all_scores)\n",
        "print(\"R² score:\", r2)"
      ],
      "metadata": {
        "colab": {
          "base_uri": "https://localhost:8080/"
        },
        "id": "UMqo5pjkYg6B",
        "outputId": "5c4e3414-2b0f-4043-e151-51ca7e530d6d"
      },
      "execution_count": null,
      "outputs": [
        {
          "output_type": "stream",
          "name": "stdout",
          "text": [
            "R² score: 0.47732714939436427\n"
          ]
        }
      ]
    },
    {
      "cell_type": "code",
      "source": [
        "import matplotlib.pyplot as plt\n",
        "\n",
        "# Vẽ giá trị thực tế và dự đoán\n",
        "plt.figure(figsize=(18, 6))\n",
        "plt.plot(all_targets, label=\"Giá trị thực tế\", color='blue', linestyle='dashed')\n",
        "plt.plot(all_scores, label=\"Giá trị dự đoán\", color='red')\n",
        "plt.xlabel(\"Thời gian (hoặc index)\")\n",
        "plt.ylabel(\"Giá trị\")\n",
        "plt.title(\"So sánh giữa giá trị thực tế và dự đoán\")\n",
        "plt.legend()\n",
        "plt.show()"
      ],
      "metadata": {
        "colab": {
          "base_uri": "https://localhost:8080/",
          "height": 553
        },
        "id": "APs7WmZDYwQb",
        "outputId": "c2394db1-d3f9-4cde-a6f1-939efb1c0a10"
      },
      "execution_count": null,
      "outputs": [
        {
          "output_type": "display_data",
          "data": {
            "text/plain": [
              "<Figure size 1800x600 with 1 Axes>"
            ],
            "image/png": "[encoded data removed]"
          },
          "metadata": {}
        }
      ]
    }
  ]
}