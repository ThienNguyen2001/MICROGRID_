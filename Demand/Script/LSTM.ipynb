{
 "cells": [
  {
   "cell_type": "markdown",
   "metadata": {},
   "source": [
    "**IMPORT LIBRARIES**"
   ]
  },
  {
   "cell_type": "code",
   "execution_count": 1,
   "metadata": {},
   "outputs": [],
   "source": [
    "import matplotlib.pyplot as plt\n",
    "import pandas as pd\n",
    "import numpy as np\n",
    "import os  \n",
    "import torch\n",
    "from torch.nn.utils.rnn import pad_sequence  \n",
    "from torch.utils.data import DataLoader, Dataset\n",
    "import torchvision.transforms as transforms\n",
    "import torch\n",
    "import torch.nn as nn\n",
    "import torch.optim as optim\n",
    "from sklearn.model_selection import train_test_split\n",
    "from tqdm import tqdm  # For a nice progress bar!\n",
    "import torch.nn.functional as F\n",
    "from sklearn.preprocessing import StandardScaler\n",
    "from sklearn.cluster import KMeans"
   ]
  },
  {
   "cell_type": "markdown",
   "metadata": {},
   "source": [
    "**ULTIS**\n"
   ]
  },
  {
   "cell_type": "code",
   "execution_count": 2,
   "metadata": {},
   "outputs": [],
   "source": [
    "def concat_csv():\n",
    "    # Take the path of all the data\n",
    "    # Read data\n",
    "    df = pd.read_csv(r'D:\\thanh_v2\\data_Thanh\\japandata.csv',header=0)\n",
    "    df.set_index('Time', inplace=True)\n",
    "    df = df.fillna(method = 'ffill')\n",
    "    \n",
    "    return df\n",
    "\n",
    "def correlation(dataset, threshold):\n",
    "    col_corr = set()  # Set of all the names of correlated columns\n",
    "    corr_matrix = dataset.corr(method='spearman')  # Calculate Spearman correlation\n",
    "    num_columns = len(corr_matrix.columns) \n",
    "    for i in range(num_columns):\n",
    "        if i != 0:\n",
    "            if abs(corr_matrix.iloc[i,17 ]) < threshold:\n",
    "                colname = corr_matrix.columns[i]\n",
    "                col_corr.add(colname)\n",
    "    return col_corr\n",
    "def get_loader(dataset,batch_size=16,shuffle=False):\n",
    "\n",
    "    loader = DataLoader(dataset=dataset,\n",
    "                        batch_size=batch_size,\n",
    "                        shuffle=shuffle)\n",
    "    return loader\n",
    "\n",
    "def save_checkpoint(state, filename=\"D:/thanh_v2/saved_model/LSTM/checkpoint/checkpoint.pth.tar\"):\n",
    "    print(\"=> Saving checkpoint\")\n",
    "    torch.save(state, filename)\n",
    "\n",
    "\n",
    "def load_checkpoint(checkpoint, model, optimizer):\n",
    "    print(\"=> Loading checkpoint\")\n",
    "    model.load_state_dict(checkpoint[\"state_dict\"])\n",
    "    optimizer.load_state_dict(checkpoint[\"optimizer\"])\n",
    "def ordered_train_val_test_split(df, val_size, test_size):\n",
    "    # Calculate the splitting indices\n",
    "    val_index = int(len(df) * (1 - val_size - test_size))\n",
    "    test_index = int(len(df) * (1 - test_size))\n",
    "\n",
    "    # Split the DataFrame\n",
    "    train_data = df.iloc[:val_index]\n",
    "    val_data = df.iloc[val_index:test_index]\n",
    "    test_data = df.iloc[test_index:]\n",
    "\n",
    "    return train_data, val_data, test_data\n"
   ]
  },
  {
   "cell_type": "markdown",
   "metadata": {},
   "source": [
    "**MODEL**"
   ]
  },
  {
   "cell_type": "code",
   "execution_count": 3,
   "metadata": {},
   "outputs": [],
   "source": [
    "device = \"cuda\" if torch.cuda.is_available() else \"cpu\"\n",
    "\n",
    "class LSTM(nn.Module):\n",
    "    def __init__(self,input_size=8,hidden_size=256,num_layers=2,seq_length=12):\n",
    "        super(LSTM,self).__init__()\n",
    "        self.hidden_size = hidden_size\n",
    "        self.num_layers = num_layers\n",
    "        self.lstm = nn.LSTM(input_size,hidden_size,num_layers,batch_first=True)\n",
    "        self.fc = nn.Linear(hidden_size*seq_length,seq_length)\n",
    "    def forward(self,x):\n",
    "        out,(hidden,cell) = self.lstm(x)\n",
    "        # out: tensor of shape (batch_size, seq_length, hidden_size)\n",
    "\n",
    "        out = out.reshape(out.shape[0],-1)\n",
    "        # out: tensor of shape (batch_size, seq_length * hidden_size)\n",
    "\n",
    "        out = self.fc(out)\n",
    "        # out: shape (batch_size,seq_length)\n",
    "        return out\n"
   ]
  },
  {
   "cell_type": "markdown",
   "metadata": {},
   "source": [
    "**DATASET**"
   ]
  },
  {
   "cell_type": "code",
   "execution_count": 4,
   "metadata": {},
   "outputs": [],
   "source": [
    "\n",
    "class Irradiation_Dataset(Dataset):\n",
    "    def __init__(self,data,target,trainop1=True):\n",
    "        self.data = data # shape [num_samples,num_feature]\n",
    "        self.target = target # shape [num_samples,1]\n",
    "        self.trainop1 = trainop1\n",
    "    def __len__(self):\n",
    "        if self.trainop1:\n",
    "            return self.data.shape[0]//24-1\n",
    "        else:\n",
    "            return self.data.shape[0]//24\n",
    "    \n",
    "    def __getitem__(self,index):\n",
    "        if self.trainop1:\n",
    "            seq_length =  24\n",
    "            features_start_idx = index*seq_length\n",
    "            features_end_idx = (index+1)*seq_length\n",
    "\n",
    "            targets_start_idx = (index+1)*seq_length\n",
    "            targets_end_idx = targets_start_idx+24\n",
    "            features = self.data[features_start_idx:features_end_idx, :]\n",
    "            targets = self.target[targets_start_idx:targets_end_idx]\n",
    "\n",
    "            return torch.tensor(features),torch.tensor(targets)\n",
    "        else:\n",
    "            seq_length =  24\n",
    "            features_start_idx = index*seq_length\n",
    "            features_end_idx = (index+1)*seq_length\n",
    "\n",
    "            targets_start_idx = index * seq_length\n",
    "            targets_end_idx = (index+1)*seq_length\n",
    "            features = self.data[features_start_idx:features_end_idx, :]\n",
    "            targets = self.target[targets_start_idx:targets_end_idx]\n",
    "        return torch.tensor(features),torch.tensor(targets)"
   ]
  },
  {
   "cell_type": "code",
   "execution_count": 5,
   "metadata": {},
   "outputs": [
    {
     "name": "stderr",
     "output_type": "stream",
     "text": [
      "C:\\Users\\AVN\\AppData\\Local\\Temp\\ipykernel_7388\\1858828585.py:6: FutureWarning: DataFrame.fillna with 'method' is deprecated and will raise in a future version. Use obj.ffill() or obj.bfill() instead.\n",
      "  df = df.fillna(method = 'ffill')\n"
     ]
    }
   ],
   "source": [
    "df = concat_csv()\n",
    "\n",
    "target_column = 'Active power of purchased electricity at the receiving end'\n",
    "trainop1 = True\n",
    "\n",
    "X = df\n",
    "Y = df[target_column]\n",
    "Y = pd.DataFrame({target_column: Y})\n",
    "\n",
    "X_train, X_val, X_test = ordered_train_val_test_split(X,0.1,0.1)\n",
    "Y_train, Y_val, Y_test = ordered_train_val_test_split(Y,0.1,0.1)\n",
    "\n",
    "if not trainop1:\n",
    "    X_train = X_train.drop(target_column,axis=1)\n",
    "    X_val = X_val.drop(target_column,axis=1)\n",
    "    X_test = X_test.drop(target_column,axis=1)\n",
    "\n",
    "\n",
    "\n",
    "\n"
   ]
  },
  {
   "cell_type": "code",
   "execution_count": 6,
   "metadata": {},
   "outputs": [],
   "source": [
    "X_scaler = StandardScaler()\n",
    "X_train = pd.DataFrame(X_scaler.fit_transform(X_train), columns=X_train.columns).values\n",
    "X_val = pd.DataFrame(X_scaler.transform(X_val), columns=X_val.columns).values\n",
    "X_test = pd.DataFrame(X_scaler.transform(X_test), columns=X_test.columns).values\n",
    "\n",
    "\n",
    "Y_scaler = StandardScaler()\n",
    "Y_train = pd.DataFrame(Y_scaler.fit_transform(Y_train), columns=Y_train.columns).values\n",
    "Y_val = pd.DataFrame(Y_scaler.transform(Y_val), columns=Y_val.columns).values\n",
    "Y_test = pd.DataFrame(Y_scaler.transform(Y_test), columns=Y_test.columns).values\n",
    "\n",
    "# print(Y_test)"
   ]
  },
  {
   "cell_type": "code",
   "execution_count": 7,
   "metadata": {},
   "outputs": [
    {
     "name": "stdout",
     "output_type": "stream",
     "text": [
      "The shape of the original data: (29040, 5)\n",
      "The shape of the train data: (23232, 5)\n",
      "The shape of the train target: (23232, 1)\n",
      "The shape of the val data: (2904, 5)\n",
      "The shape of the val target: (2904, 1)\n",
      "The shape of the test data: (2904, 5)\n",
      "The shape of the test target: (2904, 1)\n",
      "967\n",
      "120\n",
      "120\n"
     ]
    }
   ],
   "source": [
    "print(\"The shape of the original data:\",df.shape)\n",
    "print(\"The shape of the train data:\",X_train.shape)\n",
    "print(\"The shape of the train target:\",Y_train.shape)\n",
    "print(\"The shape of the val data:\",X_val.shape)\n",
    "print(\"The shape of the val target:\",Y_val.shape)\n",
    "print(\"The shape of the test data:\",X_test.shape)\n",
    "print(\"The shape of the test target:\",Y_test.shape)\n",
    "\n",
    "train_data = Irradiation_Dataset(X_train,Y_train,trainop1=trainop1)\n",
    "val_data = Irradiation_Dataset(X_val,Y_val,trainop1=trainop1)\n",
    "test_data = Irradiation_Dataset(X_test,Y_test,trainop1=trainop1)\n",
    "\n",
    "print(len(train_data))\n",
    "print(len(val_data))\n",
    "print(len(test_data))\n",
    "\n",
    "train_data_loader = get_loader(train_data)\n",
    "val_data_loader = get_loader(val_data)\n",
    "test_data_loader = get_loader(test_data)\n",
    "\n"
   ]
  },
  {
   "cell_type": "markdown",
   "metadata": {},
   "source": [
    "**TRAIN**"
   ]
  },
  {
   "cell_type": "code",
   "execution_count": 8,
   "metadata": {},
   "outputs": [],
   "source": [
    "#HYPERPARAMETERS\n",
    "input_size = 5\n",
    "hidden_size = 64\n",
    "num_layers = 2\n",
    "sequence_length = 24\n",
    "learning_rate = 0.01\n",
    "batch_size = 16\n",
    "num_epochs = 1000\n",
    "min_valid_loss = np.inf"
   ]
  },
  {
   "cell_type": "code",
   "execution_count": 9,
   "metadata": {},
   "outputs": [],
   "source": [
    "# MODEL\n",
    "model = LSTM(input_size=input_size,\n",
    "             hidden_size=hidden_size,\n",
    "             num_layers=num_layers,\n",
    "             seq_length=sequence_length).to(device=device)\n",
    "\n",
    "# randn_tensor = torch.randn((16,12,10))\n",
    "# x = model(randn_tensor)\n",
    "# x.shape"
   ]
  },
  {
   "cell_type": "code",
   "execution_count": 12,
   "metadata": {},
   "outputs": [],
   "source": [
    "#LOSS AND OPTIMIZER\n",
    "criterion = nn.MSELoss()\n",
    "optimizer = optim.Adam(model.parameters(),lr=learning_rate)\n",
    "scheduler = optim.lr_scheduler.LinearLR(optimizer=optimizer,\n",
    "                                        start_factor=1.0,\n",
    "                                        end_factor=0.01)"
   ]
  },
  {
   "cell_type": "code",
   "execution_count": null,
   "metadata": {},
   "outputs": [],
   "source": [
    "#TRAIN THE MODEL\n",
    "for epoch in range(num_epochs):\n",
    "    print(\"Epoch: \",epoch)\n",
    "    train_loss = 0\n",
    "    model.train()\n",
    "    for batch_idx,(data,target) in enumerate(tqdm(train_data_loader)):\n",
    "        data = data.to(device=device,dtype=torch.float)\n",
    "        target = target.to(device=device,dtype=torch.float).squeeze(2)\n",
    "\n",
    "        scores = model(data) \n",
    "        loss = criterion(scores,target)\n",
    "\n",
    "        optimizer.zero_grad()\n",
    "        loss.backward()\n",
    "\n",
    "        torch.nn.utils.clip_grad_norm_(model.parameters(), max_norm=1)\n",
    "\n",
    "        optimizer.step()\n",
    "\n",
    "        train_loss += loss.item()\n",
    "    scheduler.step()\n",
    "    print(\"Train Loss:\",train_loss / len(train_data_loader))\n",
    "    valid_loss = 0\n",
    "\n",
    "    model.eval()\n",
    "    with torch.no_grad():\n",
    "        total_scores_val = None\n",
    "        total_target_val = None\n",
    "        for batch_idx_val,(data_val,target_val) in enumerate(tqdm(val_data_loader)):\n",
    "            data_val = data_val.to(device=device,dtype=torch.float)\n",
    "            target_val = target_val.to(device=device,dtype=torch.float).squeeze(2)\n",
    "\n",
    "            scores_val = model(data_val)\n",
    "            loss_val = criterion(scores_val,target_val)\n",
    "\n",
    "            valid_loss += loss_val.item()\n",
    "    print(\"Validation Loss:\", valid_loss/len(val_data_loader))\n",
    "\n",
    "    if min_valid_loss > valid_loss/len(val_data_loader):\n",
    "        print(f'Validation Loss Decreased({min_valid_loss:.6f}--->{(valid_loss/len(val_data_loader)):.6f} \\t Saving The Model')\n",
    "        min_valid_loss = valid_loss/len(val_data_loader)\n",
    "        # Saving State Dict\n",
    "        checkpoint = {\"state_dict\": model.state_dict(), \"optimizer\": optimizer.state_dict()}\n",
    "        save_checkpoint(checkpoint)\n",
    "        torch.save(model, r\"D:\\thanh_v2\\saved_model\\LSTM\\prediction\\model_predict_.pth.tar\")"
   ]
  },
  {
   "cell_type": "markdown",
   "metadata": {},
   "source": [
    "**TESTING**"
   ]
  },
  {
   "cell_type": "code",
   "execution_count": 14,
   "metadata": {},
   "outputs": [],
   "source": [
    "from sklearn.metrics import mean_absolute_error, mean_squared_error"
   ]
  },
  {
   "cell_type": "code",
   "execution_count": 15,
   "metadata": {},
   "outputs": [
    {
     "name": "stderr",
     "output_type": "stream",
     "text": [
      "  0%|          | 0/8 [00:00<?, ?it/s]"
     ]
    },
    {
     "name": "stderr",
     "output_type": "stream",
     "text": [
      "100%|██████████| 8/8 [00:00<00:00, 197.74it/s]"
     ]
    },
    {
     "name": "stdout",
     "output_type": "stream",
     "text": [
      "50.014138893082176\n",
      "5229.409978739347\n"
     ]
    },
    {
     "name": "stderr",
     "output_type": "stream",
     "text": [
      "\n"
     ]
    }
   ],
   "source": [
    "model = torch.load(\"D://thanh_v2//saved_model//LSTM//prediction//model_predict_.pth.tar\")\n",
    "\n",
    "model.eval()\n",
    "with torch.no_grad():\n",
    "    flag = 0\n",
    "    # mae_test = 0\n",
    "    total_scores_test = None\n",
    "    total_target_test = None\n",
    "    for data_test,target_test in tqdm(test_data_loader):\n",
    "        # print(target_test)\n",
    "        data_test = data_test.to(device=device,dtype=torch.float32)\n",
    "        target_test = target_test.to(device=device,dtype=torch.float32).squeeze(2)\n",
    "\n",
    "        score_test = model(data_test)\n",
    "\n",
    "        target_test_unstd = Y_scaler.inverse_transform(target_test.cpu())\n",
    "        score_test_unstd = Y_scaler.inverse_transform(score_test.cpu())\n",
    "\n",
    "        if flag == 0:\n",
    "            flag = 1\n",
    "            all_scores = score_test_unstd\n",
    "            all_targets =  target_test_unstd\n",
    "        else:\n",
    "            all_scores = np.concatenate((all_scores,score_test_unstd),axis=0)\n",
    "            all_targets = np.concatenate((all_targets,target_test_unstd),axis=0)\n",
    "\n",
    "\n",
    "all_targets = all_targets.flatten()\n",
    "all_scores = all_scores.flatten()\n",
    "\n",
    "\n",
    "# num_equal_values = np.count_nonzero(all_targets <= 5.3586226e-06)\n",
    "\n",
    "# print(\"Number of values equal to 5.3576226e-06:\", num_equal_values)\n",
    "mask_all_targets = (all_targets > 5.3586226e-06).astype(float)\n",
    "\n",
    "# print(all_targets.shape)\n",
    "# print(all_scores.shape)\n",
    "            \n",
    "# print(all_targets)\n",
    "# print(\"==============================================\")\n",
    "# print(all_scores)\n",
    "\n",
    "# print(mask_all_targets.shape)\n",
    "# # print(mask_all_scores.shape)\n",
    "\n",
    "def mse_calculation(output, target, mask):\n",
    "    mse = np.sum(((output - target) * mask) ** 2.0) / np.sum(mask)\n",
    "    return mse\n",
    "def mae_calculation(output, target, mask):\n",
    "    mae = np.sum(np.abs((output - target) * mask)) / np.sum(mask)\n",
    "    return mae\n",
    "\n",
    "mse = mse_calculation(all_scores,all_targets,mask_all_targets)\n",
    "mae = mae_calculation(all_scores,all_targets,mask_all_targets)\n",
    "\n",
    "# mae = mean_absolute_error(all_targets,all_scores)\n",
    "# mse = mean_squared_error(all_targets,all_scores)\n",
    "print(mae)\n",
    "print(mse)\n"
   ]
  },
  {
   "cell_type": "code",
   "execution_count": 17,
   "metadata": {},
   "outputs": [
    {
     "data": {
      "image/png": "[encoded data removed]",
      "text/plain": [
       "<Figure size 640x480 with 1 Axes>"
      ]
     },
     "metadata": {},
     "output_type": "display_data"
    }
   ],
   "source": [
    "import numpy as np\n",
    "import matplotlib.pyplot as plt\n",
    "\n",
    "# Example numpy arrays\n",
    "\n",
    "# Create x values (assuming scores are plotted against index)\n",
    "x = np.arange(len(all_scores[0:200])) + 1\n",
    "\n",
    "# Plot both arrays on the same graph with different colors\n",
    "\n",
    "plt.plot(x, all_targets[0:200], color='red', label='Targets')\n",
    "plt.plot(x, all_scores[0:200], color='blue', label='Scores')\n",
    "\n",
    "# Adding labels, title, and legend\n",
    "plt.xlabel('Index')\n",
    "plt.ylabel('Value')\n",
    "plt.title('Plot of Scores and Targets')\n",
    "plt.legend()\n",
    "\n",
    "# Display the plot\n",
    "plt.grid(True)\n",
    "plt.show()"
   ]
  }
 ],
 "metadata": {
  "kernelspec": {
   "display_name": "Python 3",
   "language": "python",
   "name": "python3"
  },
  "language_info": {
   "codemirror_mode": {
    "name": "ipython",
    "version": 3
   },
   "file_extension": ".py",
   "mimetype": "text/x-python",
   "name": "python",
   "nbconvert_exporter": "python",
   "pygments_lexer": "ipython3",
   "version": "3.11.9"
  }
 },
 "nbformat": 4,
 "nbformat_minor": 2
}
